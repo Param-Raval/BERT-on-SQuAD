{
  "nbformat": 4,
  "nbformat_minor": 0,
  "metadata": {
    "kernelspec": {
      "display_name": "Python 3",
      "language": "python",
      "name": "python3"
    },
    "language_info": {
      "codemirror_mode": {
        "name": "ipython",
        "version": 3
      },
      "file_extension": ".py",
      "mimetype": "text/x-python",
      "name": "python",
      "nbconvert_exporter": "python",
      "pygments_lexer": "ipython3",
      "version": "3.8.1"
    },
    "colab": {
      "name": "Dimensionality_Reduction.ipynb",
      "provenance": []
    }
  },
  "cells": [
    {
      "cell_type": "markdown",
      "metadata": {
        "id": "bcfCUR62y3pc",
        "colab_type": "text"
      },
      "source": [
        "# Importing Libraries"
      ]
    },
    {
      "cell_type": "code",
      "metadata": {
        "id": "lpoGFICEy3pe",
        "colab_type": "code",
        "colab": {}
      },
      "source": [
        "import numpy as np, pandas as pd\n",
        "import json\n",
        "import ast \n",
        "from textblob import TextBlob\n",
        "import nltk\n",
        "import torch\n",
        "import pickle\n",
        "from scipy import spatial\n",
        "import warnings\n",
        "warnings.filterwarnings('ignore')\n",
        "import spacy\n",
        "from nltk import Tree\n",
        "from nltk.stem.lancaster import LancasterStemmer\n",
        "st = LancasterStemmer()\n",
        "from sklearn.feature_extraction.text import TfidfVectorizer, TfidfTransformer\n",
        "en_nlp = spacy.load('en')\n",
        "from sklearn import linear_model\n",
        "from sklearn import metrics\n",
        "from sklearn.model_selection import train_test_split\n",
        "from sklearn.preprocessing import StandardScaler, MinMaxScaler"
      ],
      "execution_count": 0,
      "outputs": []
    },
    {
      "cell_type": "markdown",
      "metadata": {
        "id": "YWaJq1ZTy3pj",
        "colab_type": "text"
      },
      "source": [
        "# Convert JSON to Pandas Dataframe"
      ]
    },
    {
      "cell_type": "code",
      "metadata": {
        "id": "61_TMEUXy3pj",
        "colab_type": "code",
        "colab": {}
      },
      "source": [
        "train = pd.read_json(\"/Users/devshreepatel/Desktop/LR/data/train-v1.1.json\") #Read the train data JSON File\n",
        "valid = pd.read_json(\"/Users/devshreepatel/Desktop/LR/data/dev-v1.1.json\") #Read the valid data JSON File"
      ],
      "execution_count": 0,
      "outputs": []
    },
    {
      "cell_type": "code",
      "metadata": {
        "id": "xbQSrPVvy3po",
        "colab_type": "code",
        "colab": {},
        "outputId": "1fb0487d-386a-4f7a-f576-85e189a3a138"
      },
      "source": [
        "train.shape, valid.shape #Printing shape of training and validation set"
      ],
      "execution_count": 0,
      "outputs": [
        {
          "output_type": "execute_result",
          "data": {
            "text/plain": [
              "((442, 2), (48, 2))"
            ]
          },
          "metadata": {
            "tags": []
          },
          "execution_count": 168
        }
      ]
    },
    {
      "cell_type": "code",
      "metadata": {
        "id": "F2trI9Jdy3pu",
        "colab_type": "code",
        "colab": {}
      },
      "source": [
        "contexts = []       \n",
        "questions = []\n",
        "answers_text = []\n",
        "answers_start = []\n",
        "for i in range(train.shape[0]):\n",
        "    topic = train.iloc[i,0]['paragraphs'] # To select each paragraph from data and gather corresponding info of it.\n",
        "    for sub_para in topic:\n",
        "        for q_a in sub_para['qas']:\n",
        "            questions.append(q_a['question']) # To get Question of each paragraph \n",
        "            answers_start.append(q_a['answers'][0]['answer_start']) # To get the start index of answer\n",
        "            answers_text.append(q_a['answers'][0]['text']) # To get the Answer for the question\n",
        "            contexts.append(sub_para['context']) # To get the context of the paragraph\n",
        "df = pd.DataFrame({\"context\":contexts, \"question\": questions, \"answer_start\": answers_start, \"text\": answers_text})"
      ],
      "execution_count": 0,
      "outputs": []
    },
    {
      "cell_type": "code",
      "metadata": {
        "id": "PpbBYaB5y3py",
        "colab_type": "code",
        "colab": {},
        "outputId": "148e4442-531c-4b3e-b608-940039c0f06e"
      },
      "source": [
        "df.shape"
      ],
      "execution_count": 0,
      "outputs": [
        {
          "output_type": "execute_result",
          "data": {
            "text/plain": [
              "(87599, 4)"
            ]
          },
          "metadata": {
            "tags": []
          },
          "execution_count": 170
        }
      ]
    },
    {
      "cell_type": "code",
      "metadata": {
        "id": "Z1vF6Xery3p1",
        "colab_type": "code",
        "colab": {}
      },
      "source": [
        "df.to_csv(\"data/train.csv\", index = None) # Change JSON file to CSV file"
      ],
      "execution_count": 0,
      "outputs": []
    },
    {
      "cell_type": "markdown",
      "metadata": {
        "id": "eaP_eBPay3p6",
        "colab_type": "text"
      },
      "source": [
        "## Create dictionary of sentence embeddings for faster computation"
      ]
    },
    {
      "cell_type": "code",
      "metadata": {
        "id": "ozOPDJFIy3p8",
        "colab_type": "code",
        "colab": {}
      },
      "source": [
        "paras = list(df[\"context\"].drop_duplicates().reset_index(drop= True)) # Create List of all Contexts and drop duplicates"
      ],
      "execution_count": 0,
      "outputs": []
    },
    {
      "cell_type": "code",
      "metadata": {
        "id": "agl8d0X1y3qD",
        "colab_type": "code",
        "colab": {},
        "outputId": "2dfdb3ba-1c3d-4faf-9cea-1208262284fd"
      },
      "source": [
        "len(paras)"
      ],
      "execution_count": 0,
      "outputs": [
        {
          "output_type": "execute_result",
          "data": {
            "text/plain": [
              "18891"
            ]
          },
          "metadata": {
            "tags": []
          },
          "execution_count": 173
        }
      ]
    },
    {
      "cell_type": "code",
      "metadata": {
        "id": "EvvL2ayey3qG",
        "colab_type": "code",
        "colab": {}
      },
      "source": [
        "blob = TextBlob(\" \".join(paras))  #Forming sentences from paras \n",
        "sentences = [item.raw for item in blob.sentences]"
      ],
      "execution_count": 0,
      "outputs": []
    },
    {
      "cell_type": "code",
      "metadata": {
        "id": "-N9WU6w_y3qL",
        "colab_type": "code",
        "colab": {},
        "outputId": "fed0bbc0-56a7-4bbb-b63c-c18c5ae1c43b"
      },
      "source": [
        "len(sentences)"
      ],
      "execution_count": 0,
      "outputs": [
        {
          "output_type": "execute_result",
          "data": {
            "text/plain": [
              "92659"
            ]
          },
          "metadata": {
            "tags": []
          },
          "execution_count": 11
        }
      ]
    },
    {
      "cell_type": "code",
      "metadata": {
        "id": "vRjlcAJyy3qP",
        "colab_type": "code",
        "colab": {}
      },
      "source": [
        "from models import InferSent\n",
        "V = 2\n",
        "MODEL_PATH = '/Users/devshreepatel/Desktop/LR/encoder/infersent%s.pkl' % V\n",
        "params_model = {'bsize': 64, 'word_emb_dim': 300, 'enc_lstm_dim': 2048,\n",
        "                'pool_type': 'max', 'dpout_model': 0.0, 'version': V} # Model Parameters For Infersent Model\n",
        "infersent = InferSent(params_model) # Infersent Pre Trained encoder by Facebook\n",
        "infersent.load_state_dict(torch.load(MODEL_PATH)) # Load Dictionary"
      ],
      "execution_count": 0,
      "outputs": []
    },
    {
      "cell_type": "code",
      "metadata": {
        "id": "UNdKBuX4y3qT",
        "colab_type": "code",
        "colab": {}
      },
      "source": [
        "W2V_PATH = '/Users/devshreepatel/Desktop/LR/data/fastText/crawl-300d-2M.vec'\n",
        "infersent.set_w2v_path(W2V_PATH) # Set the Word To Vector Path for embeddings"
      ],
      "execution_count": 0,
      "outputs": []
    },
    {
      "cell_type": "code",
      "metadata": {
        "id": "w6tqGYmTy3qX",
        "colab_type": "code",
        "colab": {},
        "outputId": "7eb18f05-0482-4a14-d602-5bf9ce715008"
      },
      "source": [
        "infersent"
      ],
      "execution_count": 0,
      "outputs": [
        {
          "output_type": "execute_result",
          "data": {
            "text/plain": [
              "InferSent(\n",
              "  (enc_lstm): LSTM(300, 2048, bidirectional=True)\n",
              ")"
            ]
          },
          "metadata": {
            "tags": []
          },
          "execution_count": 14
        }
      ]
    },
    {
      "cell_type": "code",
      "metadata": {
        "id": "NO0ieFqHy3qb",
        "colab_type": "code",
        "colab": {},
        "outputId": "e1b819a1-4abb-41a3-bdfa-553116e9e723"
      },
      "source": [
        "infersent.build_vocab(sentences, tokenize=True) # Using Function of InferSent Class to build vocabulary"
      ],
      "execution_count": 0,
      "outputs": [
        {
          "output_type": "stream",
          "text": [
            "Found 89231(/109703) words with w2v vectors\n",
            "Vocab size : 89231\n"
          ],
          "name": "stdout"
        }
      ]
    },
    {
      "cell_type": "markdown",
      "metadata": {
        "id": "GuYU8_Tay3qg",
        "colab_type": "text"
      },
      "source": [
        "## Generating word embeddings"
      ]
    },
    {
      "cell_type": "code",
      "metadata": {
        "id": "ZlPOlxOry3qg",
        "colab_type": "code",
        "colab": {}
      },
      "source": [
        "dict_embeddings = {} #initialising dictionary\n",
        "for i in range(len(sentences)):\n",
        "    print(i)\n",
        "    dict_embeddings[sentences[i]] = infersent.encode([sentences[i]], tokenize=True) # Encode the sentences in dict_embeddings"
      ],
      "execution_count": 0,
      "outputs": []
    },
    {
      "cell_type": "code",
      "metadata": {
        "id": "sHC9rY1Ry3qj",
        "colab_type": "code",
        "colab": {}
      },
      "source": [
        "questions = list(df[\"question\"]) #Use the question column from df and create a list"
      ],
      "execution_count": 0,
      "outputs": []
    },
    {
      "cell_type": "code",
      "metadata": {
        "id": "cArU88Uby3qm",
        "colab_type": "code",
        "colab": {},
        "outputId": "f1c5d7ec-d309-43aa-c46d-207bc7c0c13d"
      },
      "source": [
        "len(questions) #total questions "
      ],
      "execution_count": 0,
      "outputs": [
        {
          "output_type": "execute_result",
          "data": {
            "text/plain": [
              "87599"
            ]
          },
          "metadata": {
            "tags": []
          },
          "execution_count": 19
        }
      ]
    },
    {
      "cell_type": "code",
      "metadata": {
        "id": "hL7dSkEYy3qs",
        "colab_type": "code",
        "colab": {}
      },
      "source": [
        "for i in range(len(questions)):\n",
        "    print(i)\n",
        "    dict_embeddings[questions[i]] = infersent.encode([questions[i]], tokenize=True) # Generate encoding for questions"
      ],
      "execution_count": 0,
      "outputs": []
    },
    {
      "cell_type": "markdown",
      "metadata": {
        "id": "KqfeWkwiy3qw",
        "colab_type": "text"
      },
      "source": [
        "# Create dictionary with each Sentence and corresponding word embeddings array "
      ]
    },
    {
      "cell_type": "code",
      "metadata": {
        "id": "BBysGFkZy3qx",
        "colab_type": "code",
        "colab": {}
      },
      "source": [
        "d1 = {key:dict_embeddings[key] for i, key in enumerate(dict_embeddings) if i % 2 == 0} #creating temporary dictionary \n",
        "d2 = {key:dict_embeddings[key] for i, key in enumerate(dict_embeddings) if i % 2 == 1} #creating temporary dictionary "
      ],
      "execution_count": 0,
      "outputs": []
    },
    {
      "cell_type": "code",
      "metadata": {
        "id": "0IABbdsGy3q0",
        "colab_type": "code",
        "colab": {}
      },
      "source": [
        "train = pd.read_csv(\"data/train.csv\") # Load the train data CSV file"
      ],
      "execution_count": 0,
      "outputs": []
    },
    {
      "cell_type": "code",
      "metadata": {
        "id": "F0GaadB1y3q2",
        "colab_type": "code",
        "colab": {},
        "outputId": "eca11d20-4c01-4e72-fc3f-83f2e4936d95"
      },
      "source": [
        "train.shape #shape of initial dataset"
      ],
      "execution_count": 0,
      "outputs": [
        {
          "output_type": "execute_result",
          "data": {
            "text/plain": [
              "(87599, 4)"
            ]
          },
          "metadata": {
            "tags": []
          },
          "execution_count": 24
        }
      ]
    },
    {
      "cell_type": "markdown",
      "metadata": {
        "id": "o2FCDcIVy3q6",
        "colab_type": "text"
      },
      "source": [
        "### Loading Embedding dictionary"
      ]
    },
    {
      "cell_type": "code",
      "metadata": {
        "id": "6iddmZzPy3q7",
        "colab_type": "code",
        "colab": {}
      },
      "source": [
        "# Open the pickle file 1 with word embeddings and load to d1\n",
        "with open(\"data/dict_1.pickle\", \"rb\") as f:\n",
        "    d1 = pickle.load(f)"
      ],
      "execution_count": 0,
      "outputs": []
    },
    {
      "cell_type": "code",
      "metadata": {
        "id": "gJATlCj_y3q_",
        "colab_type": "code",
        "colab": {}
      },
      "source": [
        "# Open the pickle file 2 with word embeddings and load to d2\n",
        "with open(\"data/dict_2.pickle\", \"rb\") as f:\n",
        "    d2 = pickle.load(f)"
      ],
      "execution_count": 0,
      "outputs": []
    },
    {
      "cell_type": "code",
      "metadata": {
        "id": "GWATixwZy3rB",
        "colab_type": "code",
        "colab": {}
      },
      "source": [
        "# Concatenate the two dictionaries with word embeddings in one dict_emb\n",
        "dict_emb = dict(d1)\n",
        "dict_emb.update(d2)"
      ],
      "execution_count": 0,
      "outputs": []
    },
    {
      "cell_type": "code",
      "metadata": {
        "id": "Pz4pWqZdy3rJ",
        "colab_type": "code",
        "colab": {},
        "outputId": "e48c4de8-18af-49f6-b237-e1a4308b97b8"
      },
      "source": [
        "len(dict_emb) "
      ],
      "execution_count": 0,
      "outputs": [
        {
          "output_type": "execute_result",
          "data": {
            "text/plain": [
              "179862"
            ]
          },
          "metadata": {
            "tags": []
          },
          "execution_count": 28
        }
      ]
    },
    {
      "cell_type": "markdown",
      "metadata": {
        "id": "uNT239qPy3rN",
        "colab_type": "text"
      },
      "source": [
        "## Data Pre-Processing"
      ]
    },
    {
      "cell_type": "code",
      "metadata": {
        "id": "9zRQsw4sy3rO",
        "colab_type": "code",
        "colab": {}
      },
      "source": [
        "# This function sets the value of column Target which is the sentence number in the paragraph which contains the answer.\n",
        "def get_target(x):\n",
        "    idx = -1\n",
        "    for i in range(len(x[\"sentences\"])):\n",
        "        if x[\"text\"] in x[\"sentences\"][i]: idx = i\n",
        "    return idx"
      ],
      "execution_count": 0,
      "outputs": []
    },
    {
      "cell_type": "code",
      "metadata": {
        "id": "Zaq2sipSy3rR",
        "colab_type": "code",
        "colab": {},
        "outputId": "3237c384-9474-400b-e985-9f59b1782b9b"
      },
      "source": [
        "train.head(3)"
      ],
      "execution_count": 0,
      "outputs": [
        {
          "output_type": "execute_result",
          "data": {
            "text/html": [
              "<div>\n",
              "<style scoped>\n",
              "    .dataframe tbody tr th:only-of-type {\n",
              "        vertical-align: middle;\n",
              "    }\n",
              "\n",
              "    .dataframe tbody tr th {\n",
              "        vertical-align: top;\n",
              "    }\n",
              "\n",
              "    .dataframe thead th {\n",
              "        text-align: right;\n",
              "    }\n",
              "</style>\n",
              "<table border=\"1\" class=\"dataframe\">\n",
              "  <thead>\n",
              "    <tr style=\"text-align: right;\">\n",
              "      <th></th>\n",
              "      <th>context</th>\n",
              "      <th>question</th>\n",
              "      <th>answer_start</th>\n",
              "      <th>text</th>\n",
              "    </tr>\n",
              "  </thead>\n",
              "  <tbody>\n",
              "    <tr>\n",
              "      <th>0</th>\n",
              "      <td>Architecturally, the school has a Catholic cha...</td>\n",
              "      <td>To whom did the Virgin Mary allegedly appear i...</td>\n",
              "      <td>515</td>\n",
              "      <td>Saint Bernadette Soubirous</td>\n",
              "    </tr>\n",
              "    <tr>\n",
              "      <th>1</th>\n",
              "      <td>Architecturally, the school has a Catholic cha...</td>\n",
              "      <td>What is in front of the Notre Dame Main Building?</td>\n",
              "      <td>188</td>\n",
              "      <td>a copper statue of Christ</td>\n",
              "    </tr>\n",
              "    <tr>\n",
              "      <th>2</th>\n",
              "      <td>Architecturally, the school has a Catholic cha...</td>\n",
              "      <td>The Basilica of the Sacred heart at Notre Dame...</td>\n",
              "      <td>279</td>\n",
              "      <td>the Main Building</td>\n",
              "    </tr>\n",
              "  </tbody>\n",
              "</table>\n",
              "</div>"
            ],
            "text/plain": [
              "                                             context  \\\n",
              "0  Architecturally, the school has a Catholic cha...   \n",
              "1  Architecturally, the school has a Catholic cha...   \n",
              "2  Architecturally, the school has a Catholic cha...   \n",
              "\n",
              "                                            question  answer_start  \\\n",
              "0  To whom did the Virgin Mary allegedly appear i...           515   \n",
              "1  What is in front of the Notre Dame Main Building?           188   \n",
              "2  The Basilica of the Sacred heart at Notre Dame...           279   \n",
              "\n",
              "                         text  \n",
              "0  Saint Bernadette Soubirous  \n",
              "1   a copper statue of Christ  \n",
              "2           the Main Building  "
            ]
          },
          "metadata": {
            "tags": []
          },
          "execution_count": 30
        }
      ]
    },
    {
      "cell_type": "code",
      "metadata": {
        "id": "1B88fQNhy3rU",
        "colab_type": "code",
        "colab": {},
        "outputId": "bea247ec-4b8a-4903-e8ad-3ce88673bc31"
      },
      "source": [
        "train.shape"
      ],
      "execution_count": 0,
      "outputs": [
        {
          "output_type": "execute_result",
          "data": {
            "text/plain": [
              "(87599, 4)"
            ]
          },
          "metadata": {
            "tags": []
          },
          "execution_count": 31
        }
      ]
    },
    {
      "cell_type": "code",
      "metadata": {
        "id": "lai7wmuey3rX",
        "colab_type": "code",
        "colab": {}
      },
      "source": [
        "# Use of dropna function to drop null values using inplace=True to make the changes in CSV file automatic \n",
        "train.dropna(inplace=True)"
      ],
      "execution_count": 0,
      "outputs": []
    },
    {
      "cell_type": "markdown",
      "metadata": {
        "id": "ZqBwqGQBy3rb",
        "colab_type": "text"
      },
      "source": [
        "## Processing Data"
      ]
    },
    {
      "cell_type": "code",
      "metadata": {
        "id": "_vH1mzqHy3rb",
        "colab_type": "code",
        "colab": {}
      },
      "source": [
        "# This function to add the extra columns to the training data: sentences, target, sent_emb, quest_emb\n",
        "def process_data(train):\n",
        "    \n",
        "    print(\"step 1\")\n",
        "    train['sentences'] = train['context'].apply(lambda x: [item.raw for item in TextBlob(x).sentences])\n",
        "    \n",
        "    print(\"step 2\") #adding a column of the target\n",
        "    train[\"target\"] = train.apply(get_target, axis = 1)\n",
        "    \n",
        "    print(\"step 3\") #generating sentence embedding \n",
        "    train['sent_emb'] = train['sentences'].apply(lambda x: [dict_emb[item][0] if item in \n",
        "                                                           dict_emb else np.zeros(4096) for item in x])\n",
        "    print(\"step 4\") #generating question embedding \n",
        "    train['quest_emb'] = train['question'].apply(lambda x: dict_emb[x] if x in dict_emb else np.zeros(4096) )\n",
        "        \n",
        "    return train   "
      ],
      "execution_count": 0,
      "outputs": []
    },
    {
      "cell_type": "code",
      "metadata": {
        "id": "dJOP2COCy3rf",
        "colab_type": "code",
        "colab": {},
        "outputId": "1bd625bb-e08b-4c90-b2cc-925569170bed"
      },
      "source": [
        "# Run this to process data to add columns \n",
        "train = process_data(train)"
      ],
      "execution_count": 0,
      "outputs": [
        {
          "output_type": "stream",
          "text": [
            "step 1\n",
            "step 2\n",
            "step 3\n",
            "step 4\n"
          ],
          "name": "stdout"
        }
      ]
    },
    {
      "cell_type": "code",
      "metadata": {
        "id": "jqVRzTkwy3rj",
        "colab_type": "code",
        "colab": {},
        "outputId": "05593621-c1b8-4214-a6be-a407190f3d33"
      },
      "source": [
        "train.shape"
      ],
      "execution_count": 0,
      "outputs": [
        {
          "output_type": "execute_result",
          "data": {
            "text/plain": [
              "(87598, 8)"
            ]
          },
          "metadata": {
            "tags": []
          },
          "execution_count": 35
        }
      ]
    },
    {
      "cell_type": "code",
      "metadata": {
        "id": "Q82C0kQdy3rm",
        "colab_type": "code",
        "colab": {},
        "outputId": "9bc46c07-d99b-4b99-f876-8f2dbde0d7dc"
      },
      "source": [
        "train.head(3)"
      ],
      "execution_count": 0,
      "outputs": [
        {
          "output_type": "execute_result",
          "data": {
            "text/html": [
              "<div>\n",
              "<style scoped>\n",
              "    .dataframe tbody tr th:only-of-type {\n",
              "        vertical-align: middle;\n",
              "    }\n",
              "\n",
              "    .dataframe tbody tr th {\n",
              "        vertical-align: top;\n",
              "    }\n",
              "\n",
              "    .dataframe thead th {\n",
              "        text-align: right;\n",
              "    }\n",
              "</style>\n",
              "<table border=\"1\" class=\"dataframe\">\n",
              "  <thead>\n",
              "    <tr style=\"text-align: right;\">\n",
              "      <th></th>\n",
              "      <th>context</th>\n",
              "      <th>question</th>\n",
              "      <th>answer_start</th>\n",
              "      <th>text</th>\n",
              "      <th>sentences</th>\n",
              "      <th>target</th>\n",
              "      <th>sent_emb</th>\n",
              "      <th>quest_emb</th>\n",
              "    </tr>\n",
              "  </thead>\n",
              "  <tbody>\n",
              "    <tr>\n",
              "      <th>0</th>\n",
              "      <td>Architecturally, the school has a Catholic cha...</td>\n",
              "      <td>To whom did the Virgin Mary allegedly appear i...</td>\n",
              "      <td>515</td>\n",
              "      <td>Saint Bernadette Soubirous</td>\n",
              "      <td>[Architecturally, the school has a Catholic ch...</td>\n",
              "      <td>5</td>\n",
              "      <td>[[0.0074688885, -0.050863117, 0.007364763, -0....</td>\n",
              "      <td>[[0.0074688885, 0.024210272, 0.069616325, -0.0...</td>\n",
              "    </tr>\n",
              "    <tr>\n",
              "      <th>1</th>\n",
              "      <td>Architecturally, the school has a Catholic cha...</td>\n",
              "      <td>What is in front of the Notre Dame Main Building?</td>\n",
              "      <td>188</td>\n",
              "      <td>a copper statue of Christ</td>\n",
              "      <td>[Architecturally, the school has a Catholic ch...</td>\n",
              "      <td>2</td>\n",
              "      <td>[[0.0074688885, -0.050863117, 0.007364763, -0....</td>\n",
              "      <td>[[0.0074688885, -0.033483382, 0.040545918, -0....</td>\n",
              "    </tr>\n",
              "    <tr>\n",
              "      <th>2</th>\n",
              "      <td>Architecturally, the school has a Catholic cha...</td>\n",
              "      <td>The Basilica of the Sacred heart at Notre Dame...</td>\n",
              "      <td>279</td>\n",
              "      <td>the Main Building</td>\n",
              "      <td>[Architecturally, the school has a Catholic ch...</td>\n",
              "      <td>3</td>\n",
              "      <td>[[0.0074688885, -0.050863117, 0.007364763, -0....</td>\n",
              "      <td>[[0.0074688885, -0.043944724, 0.14385942, -0.0...</td>\n",
              "    </tr>\n",
              "  </tbody>\n",
              "</table>\n",
              "</div>"
            ],
            "text/plain": [
              "                                             context  \\\n",
              "0  Architecturally, the school has a Catholic cha...   \n",
              "1  Architecturally, the school has a Catholic cha...   \n",
              "2  Architecturally, the school has a Catholic cha...   \n",
              "\n",
              "                                            question  answer_start  \\\n",
              "0  To whom did the Virgin Mary allegedly appear i...           515   \n",
              "1  What is in front of the Notre Dame Main Building?           188   \n",
              "2  The Basilica of the Sacred heart at Notre Dame...           279   \n",
              "\n",
              "                         text  \\\n",
              "0  Saint Bernadette Soubirous   \n",
              "1   a copper statue of Christ   \n",
              "2           the Main Building   \n",
              "\n",
              "                                           sentences  target  \\\n",
              "0  [Architecturally, the school has a Catholic ch...       5   \n",
              "1  [Architecturally, the school has a Catholic ch...       2   \n",
              "2  [Architecturally, the school has a Catholic ch...       3   \n",
              "\n",
              "                                            sent_emb  \\\n",
              "0  [[0.0074688885, -0.050863117, 0.007364763, -0....   \n",
              "1  [[0.0074688885, -0.050863117, 0.007364763, -0....   \n",
              "2  [[0.0074688885, -0.050863117, 0.007364763, -0....   \n",
              "\n",
              "                                           quest_emb  \n",
              "0  [[0.0074688885, 0.024210272, 0.069616325, -0.0...  \n",
              "1  [[0.0074688885, -0.033483382, 0.040545918, -0....  \n",
              "2  [[0.0074688885, -0.043944724, 0.14385942, -0.0...  "
            ]
          },
          "metadata": {
            "tags": []
          },
          "execution_count": 36
        }
      ]
    },
    {
      "cell_type": "markdown",
      "metadata": {
        "id": "IVt14gpPy3ro",
        "colab_type": "text"
      },
      "source": [
        "## Predicted Cosine & Euclidean Index"
      ]
    },
    {
      "cell_type": "code",
      "metadata": {
        "id": "4e6aXrnSy3ro",
        "colab_type": "code",
        "colab": {}
      },
      "source": [
        "#Find the Cosine similarity Between Question and Answer \n",
        "def cosine_sim(x):\n",
        "    li = []\n",
        "    for item in x[\"sent_emb\"]:\n",
        "        li.append(spatial.distance.cosine(item,x[\"quest_emb\"][0]))\n",
        "    return li   "
      ],
      "execution_count": 0,
      "outputs": []
    },
    {
      "cell_type": "code",
      "metadata": {
        "id": "FYkdgWC0y3rs",
        "colab_type": "code",
        "colab": {}
      },
      "source": [
        "#This function is to find the argmin between all the distances of a single sentence array to find the predicted target ...\n",
        "#sentence number\n",
        "def pred_idx(distances):\n",
        "    return np.argmin(distances)"
      ],
      "execution_count": 0,
      "outputs": []
    },
    {
      "cell_type": "code",
      "metadata": {
        "id": "Tl4TZRW5y3rx",
        "colab_type": "code",
        "colab": {}
      },
      "source": [
        "# The euclidean distance and cosine similarity are calculated and predictions are made using above function and stored \n",
        "def predictions(train):\n",
        "    \n",
        "    train[\"cosine_sim\"] = train.apply(cosine_sim, axis = 1)\n",
        "    train[\"diff\"] = (train[\"quest_emb\"] - train[\"sent_emb\"])**2 #finding distance between question and sentence embedding\n",
        "    train[\"euclidean_dis\"] = train[\"diff\"].apply(lambda x: list(np.sum(x, axis = 1)))\n",
        "    del train[\"diff\"]\n",
        "    \n",
        "    print(\"cosine start\")\n",
        "    \n",
        "    train[\"pred_idx_cos\"] = train[\"cosine_sim\"].apply(lambda x: pred_idx(x)) #calling the function for predicting target from cosine similarity\n",
        "    train[\"pred_idx_euc\"] = train[\"euclidean_dis\"].apply(lambda x: pred_idx(x))#calling the function for predicting target from cosine similarity\n",
        "    \n",
        "    return train"
      ],
      "execution_count": 0,
      "outputs": []
    },
    {
      "cell_type": "code",
      "metadata": {
        "id": "SXVdJHxsy3r1",
        "colab_type": "code",
        "colab": {}
      },
      "source": [
        "#Call to make the predictions\n",
        "predicted = predictions(train)"
      ],
      "execution_count": 0,
      "outputs": []
    },
    {
      "cell_type": "code",
      "metadata": {
        "id": "rBdVR93Ry3r4",
        "colab_type": "code",
        "colab": {},
        "outputId": "54111e5b-0d23-410f-aab8-7d28e8fd9041"
      },
      "source": [
        "predicted.shape"
      ],
      "execution_count": 0,
      "outputs": [
        {
          "output_type": "execute_result",
          "data": {
            "text/plain": [
              "(87598, 12)"
            ]
          },
          "metadata": {
            "tags": []
          },
          "execution_count": 42
        }
      ]
    },
    {
      "cell_type": "code",
      "metadata": {
        "id": "WkwYS91ky3r7",
        "colab_type": "code",
        "colab": {},
        "outputId": "aae6ba1c-b230-4405-db08-dfe4b15a9923"
      },
      "source": [
        "predicted.head(3)"
      ],
      "execution_count": 0,
      "outputs": [
        {
          "output_type": "execute_result",
          "data": {
            "text/html": [
              "<div>\n",
              "<style scoped>\n",
              "    .dataframe tbody tr th:only-of-type {\n",
              "        vertical-align: middle;\n",
              "    }\n",
              "\n",
              "    .dataframe tbody tr th {\n",
              "        vertical-align: top;\n",
              "    }\n",
              "\n",
              "    .dataframe thead th {\n",
              "        text-align: right;\n",
              "    }\n",
              "</style>\n",
              "<table border=\"1\" class=\"dataframe\">\n",
              "  <thead>\n",
              "    <tr style=\"text-align: right;\">\n",
              "      <th></th>\n",
              "      <th>context</th>\n",
              "      <th>question</th>\n",
              "      <th>answer_start</th>\n",
              "      <th>text</th>\n",
              "      <th>sentences</th>\n",
              "      <th>target</th>\n",
              "      <th>sent_emb</th>\n",
              "      <th>quest_emb</th>\n",
              "      <th>cosine_sim</th>\n",
              "      <th>euclidean_dis</th>\n",
              "      <th>pred_idx_cos</th>\n",
              "      <th>pred_idx_euc</th>\n",
              "    </tr>\n",
              "  </thead>\n",
              "  <tbody>\n",
              "    <tr>\n",
              "      <th>0</th>\n",
              "      <td>Architecturally, the school has a Catholic cha...</td>\n",
              "      <td>To whom did the Virgin Mary allegedly appear i...</td>\n",
              "      <td>515</td>\n",
              "      <td>Saint Bernadette Soubirous</td>\n",
              "      <td>['Architecturally, the school has a Catholic c...</td>\n",
              "      <td>5</td>\n",
              "      <td>[array([ 0.00746889, -0.05086312,  0.00736476,...</td>\n",
              "      <td>[[ 0.00746889  0.02421027  0.06961633 ...  0.0...</td>\n",
              "      <td>[0.6835565567016602, 0.5527453124523163, 0.574...</td>\n",
              "      <td>[7.301305, 6.4764132, 7.214262, 6.9176197, 6.5...</td>\n",
              "      <td>5</td>\n",
              "      <td>5</td>\n",
              "    </tr>\n",
              "    <tr>\n",
              "      <th>1</th>\n",
              "      <td>Architecturally, the school has a Catholic cha...</td>\n",
              "      <td>What is in front of the Notre Dame Main Building?</td>\n",
              "      <td>188</td>\n",
              "      <td>a copper statue of Christ</td>\n",
              "      <td>['Architecturally, the school has a Catholic c...</td>\n",
              "      <td>2</td>\n",
              "      <td>[array([ 0.00746889, -0.05086312,  0.00736476,...</td>\n",
              "      <td>[[ 0.00746889 -0.03348338  0.04054592 ... -0.0...</td>\n",
              "      <td>[0.6624992787837982, 0.5191770792007446, 0.592...</td>\n",
              "      <td>[5.717004, 5.076439, 6.3408985, 3.5867877, 4.8...</td>\n",
              "      <td>3</td>\n",
              "      <td>3</td>\n",
              "    </tr>\n",
              "    <tr>\n",
              "      <th>2</th>\n",
              "      <td>Architecturally, the school has a Catholic cha...</td>\n",
              "      <td>The Basilica of the Sacred heart at Notre Dame...</td>\n",
              "      <td>279</td>\n",
              "      <td>the Main Building</td>\n",
              "      <td>['Architecturally, the school has a Catholic c...</td>\n",
              "      <td>3</td>\n",
              "      <td>[array([ 0.00746889, -0.05086312,  0.00736476,...</td>\n",
              "      <td>[[ 0.00746889 -0.04394472  0.14385942 ...  0.0...</td>\n",
              "      <td>[0.6164608299732208, 0.4940056800842285, 0.521...</td>\n",
              "      <td>[5.3495297, 4.8541417, 5.6286764, 2.8828857, 3...</td>\n",
              "      <td>3</td>\n",
              "      <td>3</td>\n",
              "    </tr>\n",
              "  </tbody>\n",
              "</table>\n",
              "</div>"
            ],
            "text/plain": [
              "                                             context  \\\n",
              "0  Architecturally, the school has a Catholic cha...   \n",
              "1  Architecturally, the school has a Catholic cha...   \n",
              "2  Architecturally, the school has a Catholic cha...   \n",
              "\n",
              "                                            question  answer_start  \\\n",
              "0  To whom did the Virgin Mary allegedly appear i...           515   \n",
              "1  What is in front of the Notre Dame Main Building?           188   \n",
              "2  The Basilica of the Sacred heart at Notre Dame...           279   \n",
              "\n",
              "                         text  \\\n",
              "0  Saint Bernadette Soubirous   \n",
              "1   a copper statue of Christ   \n",
              "2           the Main Building   \n",
              "\n",
              "                                           sentences  target  \\\n",
              "0  ['Architecturally, the school has a Catholic c...       5   \n",
              "1  ['Architecturally, the school has a Catholic c...       2   \n",
              "2  ['Architecturally, the school has a Catholic c...       3   \n",
              "\n",
              "                                            sent_emb  \\\n",
              "0  [array([ 0.00746889, -0.05086312,  0.00736476,...   \n",
              "1  [array([ 0.00746889, -0.05086312,  0.00736476,...   \n",
              "2  [array([ 0.00746889, -0.05086312,  0.00736476,...   \n",
              "\n",
              "                                           quest_emb  \\\n",
              "0  [[ 0.00746889  0.02421027  0.06961633 ...  0.0...   \n",
              "1  [[ 0.00746889 -0.03348338  0.04054592 ... -0.0...   \n",
              "2  [[ 0.00746889 -0.04394472  0.14385942 ...  0.0...   \n",
              "\n",
              "                                          cosine_sim  \\\n",
              "0  [0.6835565567016602, 0.5527453124523163, 0.574...   \n",
              "1  [0.6624992787837982, 0.5191770792007446, 0.592...   \n",
              "2  [0.6164608299732208, 0.4940056800842285, 0.521...   \n",
              "\n",
              "                                       euclidean_dis  pred_idx_cos  \\\n",
              "0  [7.301305, 6.4764132, 7.214262, 6.9176197, 6.5...             5   \n",
              "1  [5.717004, 5.076439, 6.3408985, 3.5867877, 4.8...             3   \n",
              "2  [5.3495297, 4.8541417, 5.6286764, 2.8828857, 3...             3   \n",
              "\n",
              "   pred_idx_euc  \n",
              "0             5  \n",
              "1             3  \n",
              "2             3  "
            ]
          },
          "metadata": {
            "tags": []
          },
          "execution_count": 43
        }
      ]
    },
    {
      "cell_type": "code",
      "metadata": {
        "id": "OyiKSjxYy3r_",
        "colab_type": "code",
        "colab": {},
        "outputId": "a6af2d54-51a3-4014-98bb-7367e88dd621"
      },
      "source": [
        "predicted[\"cosine_sim\"][0]"
      ],
      "execution_count": 0,
      "outputs": [
        {
          "output_type": "execute_result",
          "data": {
            "text/plain": [
              "'[0.6835565567016602, 0.5527453124523163, 0.5747938454151154, 0.624308854341507, 0.619026243686676, 0.25835102796554565, 0.5743658542633057]'"
            ]
          },
          "metadata": {
            "tags": []
          },
          "execution_count": 44
        }
      ]
    },
    {
      "cell_type": "code",
      "metadata": {
        "id": "o5ffgpPyy3sC",
        "colab_type": "code",
        "colab": {},
        "outputId": "49acf2c1-e3d7-4c71-9176-9504e754d2b4"
      },
      "source": [
        "predicted[\"euclidean_dis\"][0]"
      ],
      "execution_count": 0,
      "outputs": [
        {
          "output_type": "execute_result",
          "data": {
            "text/plain": [
              "'[7.301305, 6.4764132, 7.214262, 6.9176197, 6.519748, 3.6410067, 6.9080434]'"
            ]
          },
          "metadata": {
            "tags": []
          },
          "execution_count": 45
        }
      ]
    },
    {
      "cell_type": "markdown",
      "metadata": {
        "id": "iCjm2hX4y3sF",
        "colab_type": "text"
      },
      "source": [
        "## Accuracy"
      ]
    },
    {
      "cell_type": "code",
      "metadata": {
        "id": "6f6OS1bHy3sH",
        "colab_type": "code",
        "colab": {}
      },
      "source": [
        "# Calculate the accuracy between predicted and target values\n",
        "def accuracy(target, predicted):\n",
        "    acc = (target==predicted).sum()/len(target)\n",
        "    return acc"
      ],
      "execution_count": 0,
      "outputs": []
    },
    {
      "cell_type": "markdown",
      "metadata": {
        "id": "ZBVo4dw2y3sJ",
        "colab_type": "text"
      },
      "source": [
        "### Accuracy for  euclidean Distance"
      ]
    },
    {
      "cell_type": "code",
      "metadata": {
        "id": "rpnCDdBvy3sK",
        "colab_type": "code",
        "colab": {},
        "outputId": "c1b7ef12-b7c4-41c7-c4c5-61285643ce4a"
      },
      "source": [
        "print(accuracy(predicted[\"target\"], predicted[\"pred_idx_euc\"]))"
      ],
      "execution_count": 0,
      "outputs": [
        {
          "output_type": "stream",
          "text": [
            "0.488778282609192\n"
          ],
          "name": "stdout"
        }
      ]
    },
    {
      "cell_type": "markdown",
      "metadata": {
        "id": "X7GlMz9_y3sP",
        "colab_type": "text"
      },
      "source": [
        "### Accuracy for Cosine Similarity"
      ]
    },
    {
      "cell_type": "code",
      "metadata": {
        "id": "u5UDUtyvy3sQ",
        "colab_type": "code",
        "colab": {},
        "outputId": "0aa8127a-208c-406c-e8cc-0d53ed477bd8"
      },
      "source": [
        "print(accuracy(predicted[\"target\"], predicted[\"pred_idx_cos\"]))"
      ],
      "execution_count": 0,
      "outputs": [
        {
          "output_type": "stream",
          "text": [
            "0.5972282472202561\n"
          ],
          "name": "stdout"
        }
      ]
    },
    {
      "cell_type": "code",
      "metadata": {
        "id": "Q4vty-46y3sU",
        "colab_type": "code",
        "colab": {}
      },
      "source": [
        "#Write back the final data with predicted values to a CSV file\n",
        "predicted.to_csv(\"train_detect_sent.csv\", index=None)"
      ],
      "execution_count": 0,
      "outputs": []
    },
    {
      "cell_type": "code",
      "metadata": {
        "id": "VqpYgP2ry3sX",
        "colab_type": "code",
        "colab": {}
      },
      "source": [
        "#Read the new CSV file\n",
        "predicted = pd.read_csv(\"train_detect_sent.csv\").reset_index(drop=True)"
      ],
      "execution_count": 0,
      "outputs": []
    },
    {
      "cell_type": "code",
      "metadata": {
        "id": "sSUC2HuWy3sZ",
        "colab_type": "code",
        "colab": {}
      },
      "source": [
        "#Use spaCy Open source Library to load the data needed for to process for English Language\n",
        "en_nlp=spacy.load('en')\n",
        "doc = en_nlp(predicted.iloc[0,1])"
      ],
      "execution_count": 0,
      "outputs": []
    },
    {
      "cell_type": "code",
      "metadata": {
        "id": "W-kVTfsky3sb",
        "colab_type": "code",
        "colab": {},
        "outputId": "925b7a42-0265-49c0-cb45-c5cc03e7bf2c"
      },
      "source": [
        "predicted"
      ],
      "execution_count": 0,
      "outputs": [
        {
          "output_type": "execute_result",
          "data": {
            "text/html": [
              "<div>\n",
              "<style scoped>\n",
              "    .dataframe tbody tr th:only-of-type {\n",
              "        vertical-align: middle;\n",
              "    }\n",
              "\n",
              "    .dataframe tbody tr th {\n",
              "        vertical-align: top;\n",
              "    }\n",
              "\n",
              "    .dataframe thead th {\n",
              "        text-align: right;\n",
              "    }\n",
              "</style>\n",
              "<table border=\"1\" class=\"dataframe\">\n",
              "  <thead>\n",
              "    <tr style=\"text-align: right;\">\n",
              "      <th></th>\n",
              "      <th>context</th>\n",
              "      <th>question</th>\n",
              "      <th>answer_start</th>\n",
              "      <th>text</th>\n",
              "      <th>sentences</th>\n",
              "      <th>target</th>\n",
              "      <th>sent_emb</th>\n",
              "      <th>quest_emb</th>\n",
              "      <th>cosine_sim</th>\n",
              "      <th>euclidean_dis</th>\n",
              "      <th>pred_idx_cos</th>\n",
              "      <th>pred_idx_euc</th>\n",
              "    </tr>\n",
              "  </thead>\n",
              "  <tbody>\n",
              "    <tr>\n",
              "      <th>0</th>\n",
              "      <td>Architecturally, the school has a Catholic cha...</td>\n",
              "      <td>To whom did the Virgin Mary allegedly appear i...</td>\n",
              "      <td>515</td>\n",
              "      <td>Saint Bernadette Soubirous</td>\n",
              "      <td>['Architecturally, the school has a Catholic c...</td>\n",
              "      <td>5</td>\n",
              "      <td>[array([ 0.00746889, -0.05086312,  0.00736476,...</td>\n",
              "      <td>[[ 0.00746889  0.02421027  0.06961633 ...  0.0...</td>\n",
              "      <td>[0.6835565567016602, 0.5527453124523163, 0.574...</td>\n",
              "      <td>[7.301305, 6.4764132, 7.214262, 6.9176197, 6.5...</td>\n",
              "      <td>5</td>\n",
              "      <td>5</td>\n",
              "    </tr>\n",
              "    <tr>\n",
              "      <th>1</th>\n",
              "      <td>Architecturally, the school has a Catholic cha...</td>\n",
              "      <td>What is in front of the Notre Dame Main Building?</td>\n",
              "      <td>188</td>\n",
              "      <td>a copper statue of Christ</td>\n",
              "      <td>['Architecturally, the school has a Catholic c...</td>\n",
              "      <td>2</td>\n",
              "      <td>[array([ 0.00746889, -0.05086312,  0.00736476,...</td>\n",
              "      <td>[[ 0.00746889 -0.03348338  0.04054592 ... -0.0...</td>\n",
              "      <td>[0.6624992787837982, 0.5191770792007446, 0.592...</td>\n",
              "      <td>[5.717004, 5.076439, 6.3408985, 3.5867877, 4.8...</td>\n",
              "      <td>3</td>\n",
              "      <td>3</td>\n",
              "    </tr>\n",
              "    <tr>\n",
              "      <th>2</th>\n",
              "      <td>Architecturally, the school has a Catholic cha...</td>\n",
              "      <td>The Basilica of the Sacred heart at Notre Dame...</td>\n",
              "      <td>279</td>\n",
              "      <td>the Main Building</td>\n",
              "      <td>['Architecturally, the school has a Catholic c...</td>\n",
              "      <td>3</td>\n",
              "      <td>[array([ 0.00746889, -0.05086312,  0.00736476,...</td>\n",
              "      <td>[[ 0.00746889 -0.04394472  0.14385942 ...  0.0...</td>\n",
              "      <td>[0.6164608299732208, 0.4940056800842285, 0.521...</td>\n",
              "      <td>[5.3495297, 4.8541417, 5.6286764, 2.8828857, 3...</td>\n",
              "      <td>3</td>\n",
              "      <td>3</td>\n",
              "    </tr>\n",
              "    <tr>\n",
              "      <th>3</th>\n",
              "      <td>Architecturally, the school has a Catholic cha...</td>\n",
              "      <td>What is the Grotto at Notre Dame?</td>\n",
              "      <td>381</td>\n",
              "      <td>a Marian place of prayer and reflection</td>\n",
              "      <td>['Architecturally, the school has a Catholic c...</td>\n",
              "      <td>4</td>\n",
              "      <td>[array([ 0.00746889, -0.05086312,  0.00736476,...</td>\n",
              "      <td>[[ 0.00746889 -0.02113509  0.08985032 ...  0.0...</td>\n",
              "      <td>[0.6685060262680054, 0.6087148487567902, 0.695...</td>\n",
              "      <td>[6.2550764, 6.3554144, 7.8789406, 4.5443306, 4...</td>\n",
              "      <td>3</td>\n",
              "      <td>3</td>\n",
              "    </tr>\n",
              "    <tr>\n",
              "      <th>4</th>\n",
              "      <td>Architecturally, the school has a Catholic cha...</td>\n",
              "      <td>What sits on top of the Main Building at Notre...</td>\n",
              "      <td>92</td>\n",
              "      <td>a golden statue of the Virgin Mary</td>\n",
              "      <td>['Architecturally, the school has a Catholic c...</td>\n",
              "      <td>1</td>\n",
              "      <td>[array([ 0.00746889, -0.05086312,  0.00736476,...</td>\n",
              "      <td>[[ 0.00746889 -0.02515129  0.08926863 ...  0.0...</td>\n",
              "      <td>[0.7792749553918839, 0.528475284576416, 0.5735...</td>\n",
              "      <td>[7.5543714, 5.692802, 6.6871767, 4.9444075, 5....</td>\n",
              "      <td>3</td>\n",
              "      <td>3</td>\n",
              "    </tr>\n",
              "    <tr>\n",
              "      <th>...</th>\n",
              "      <td>...</td>\n",
              "      <td>...</td>\n",
              "      <td>...</td>\n",
              "      <td>...</td>\n",
              "      <td>...</td>\n",
              "      <td>...</td>\n",
              "      <td>...</td>\n",
              "      <td>...</td>\n",
              "      <td>...</td>\n",
              "      <td>...</td>\n",
              "      <td>...</td>\n",
              "      <td>...</td>\n",
              "    </tr>\n",
              "    <tr>\n",
              "      <th>87593</th>\n",
              "      <td>Kathmandu Metropolitan City (KMC), in order to...</td>\n",
              "      <td>In what US state did Kathmandu first establish...</td>\n",
              "      <td>229</td>\n",
              "      <td>Oregon</td>\n",
              "      <td>['Kathmandu Metropolitan City (KMC), in order ...</td>\n",
              "      <td>1</td>\n",
              "      <td>[array([ 0.00746889, -0.05648201,  0.10629363,...</td>\n",
              "      <td>[[ 0.00746889 -0.03403048  0.06046114 ...  0.0...</td>\n",
              "      <td>[0.41991251707077026, 0.3826998472213745, 0.48...</td>\n",
              "      <td>[4.760933, 4.116004, 6.391081, 5.7619123]</td>\n",
              "      <td>1</td>\n",
              "      <td>1</td>\n",
              "    </tr>\n",
              "    <tr>\n",
              "      <th>87594</th>\n",
              "      <td>Kathmandu Metropolitan City (KMC), in order to...</td>\n",
              "      <td>What was Yangon previously known as?</td>\n",
              "      <td>414</td>\n",
              "      <td>Rangoon</td>\n",
              "      <td>['Kathmandu Metropolitan City (KMC), in order ...</td>\n",
              "      <td>2</td>\n",
              "      <td>[array([ 0.00746889, -0.05648201,  0.10629363,...</td>\n",
              "      <td>[[ 0.00746889 -0.05823731 -0.00707996 ... -0.0...</td>\n",
              "      <td>[0.7255948781967163, 0.698612630367279, 0.7624...</td>\n",
              "      <td>[7.763542, 7.0988116, 9.420061, 9.603617]</td>\n",
              "      <td>1</td>\n",
              "      <td>1</td>\n",
              "    </tr>\n",
              "    <tr>\n",
              "      <th>87595</th>\n",
              "      <td>Kathmandu Metropolitan City (KMC), in order to...</td>\n",
              "      <td>With what Belorussian city does Kathmandu have...</td>\n",
              "      <td>476</td>\n",
              "      <td>Minsk</td>\n",
              "      <td>['Kathmandu Metropolitan City (KMC), in order ...</td>\n",
              "      <td>2</td>\n",
              "      <td>[array([ 0.00746889, -0.05648201,  0.10629363,...</td>\n",
              "      <td>[[ 0.00746889 -0.05044248  0.06999452 ...  0.0...</td>\n",
              "      <td>[0.4843701124191284, 0.5179441869258881, 0.530...</td>\n",
              "      <td>[5.394357, 5.4583673, 6.8717723, 6.434966]</td>\n",
              "      <td>0</td>\n",
              "      <td>0</td>\n",
              "    </tr>\n",
              "    <tr>\n",
              "      <th>87596</th>\n",
              "      <td>Kathmandu Metropolitan City (KMC), in order to...</td>\n",
              "      <td>In what year did Kathmandu create its initial ...</td>\n",
              "      <td>199</td>\n",
              "      <td>1975</td>\n",
              "      <td>['Kathmandu Metropolitan City (KMC), in order ...</td>\n",
              "      <td>1</td>\n",
              "      <td>[array([ 0.00746889, -0.05648201,  0.10629363,...</td>\n",
              "      <td>[[ 0.00746889 -0.03403048  0.05538646 ...  0.0...</td>\n",
              "      <td>[0.49502629041671753, 0.4206138253211975, 0.52...</td>\n",
              "      <td>[5.523418, 4.4599686, 6.844032, 6.0133524]</td>\n",
              "      <td>1</td>\n",
              "      <td>1</td>\n",
              "    </tr>\n",
              "    <tr>\n",
              "      <th>87597</th>\n",
              "      <td>Kathmandu Metropolitan City (KMC), in order to...</td>\n",
              "      <td>What is KMC an initialism of?</td>\n",
              "      <td>0</td>\n",
              "      <td>Kathmandu Metropolitan City</td>\n",
              "      <td>['Kathmandu Metropolitan City (KMC), in order ...</td>\n",
              "      <td>0</td>\n",
              "      <td>[array([ 0.00746889, -0.05648201,  0.10629363,...</td>\n",
              "      <td>[[ 0.00746889 -0.05823731  0.08288754 ... -0.0...</td>\n",
              "      <td>[0.6605812907218933, 0.7128670513629913, 0.849...</td>\n",
              "      <td>[7.2158666, 7.3852386, 10.605681, 9.032009]</td>\n",
              "      <td>0</td>\n",
              "      <td>0</td>\n",
              "    </tr>\n",
              "  </tbody>\n",
              "</table>\n",
              "<p>87598 rows × 12 columns</p>\n",
              "</div>"
            ],
            "text/plain": [
              "                                                 context  \\\n",
              "0      Architecturally, the school has a Catholic cha...   \n",
              "1      Architecturally, the school has a Catholic cha...   \n",
              "2      Architecturally, the school has a Catholic cha...   \n",
              "3      Architecturally, the school has a Catholic cha...   \n",
              "4      Architecturally, the school has a Catholic cha...   \n",
              "...                                                  ...   \n",
              "87593  Kathmandu Metropolitan City (KMC), in order to...   \n",
              "87594  Kathmandu Metropolitan City (KMC), in order to...   \n",
              "87595  Kathmandu Metropolitan City (KMC), in order to...   \n",
              "87596  Kathmandu Metropolitan City (KMC), in order to...   \n",
              "87597  Kathmandu Metropolitan City (KMC), in order to...   \n",
              "\n",
              "                                                question  answer_start  \\\n",
              "0      To whom did the Virgin Mary allegedly appear i...           515   \n",
              "1      What is in front of the Notre Dame Main Building?           188   \n",
              "2      The Basilica of the Sacred heart at Notre Dame...           279   \n",
              "3                      What is the Grotto at Notre Dame?           381   \n",
              "4      What sits on top of the Main Building at Notre...            92   \n",
              "...                                                  ...           ...   \n",
              "87593  In what US state did Kathmandu first establish...           229   \n",
              "87594               What was Yangon previously known as?           414   \n",
              "87595  With what Belorussian city does Kathmandu have...           476   \n",
              "87596  In what year did Kathmandu create its initial ...           199   \n",
              "87597                      What is KMC an initialism of?             0   \n",
              "\n",
              "                                          text  \\\n",
              "0                   Saint Bernadette Soubirous   \n",
              "1                    a copper statue of Christ   \n",
              "2                            the Main Building   \n",
              "3      a Marian place of prayer and reflection   \n",
              "4           a golden statue of the Virgin Mary   \n",
              "...                                        ...   \n",
              "87593                                   Oregon   \n",
              "87594                                  Rangoon   \n",
              "87595                                    Minsk   \n",
              "87596                                     1975   \n",
              "87597              Kathmandu Metropolitan City   \n",
              "\n",
              "                                               sentences  target  \\\n",
              "0      ['Architecturally, the school has a Catholic c...       5   \n",
              "1      ['Architecturally, the school has a Catholic c...       2   \n",
              "2      ['Architecturally, the school has a Catholic c...       3   \n",
              "3      ['Architecturally, the school has a Catholic c...       4   \n",
              "4      ['Architecturally, the school has a Catholic c...       1   \n",
              "...                                                  ...     ...   \n",
              "87593  ['Kathmandu Metropolitan City (KMC), in order ...       1   \n",
              "87594  ['Kathmandu Metropolitan City (KMC), in order ...       2   \n",
              "87595  ['Kathmandu Metropolitan City (KMC), in order ...       2   \n",
              "87596  ['Kathmandu Metropolitan City (KMC), in order ...       1   \n",
              "87597  ['Kathmandu Metropolitan City (KMC), in order ...       0   \n",
              "\n",
              "                                                sent_emb  \\\n",
              "0      [array([ 0.00746889, -0.05086312,  0.00736476,...   \n",
              "1      [array([ 0.00746889, -0.05086312,  0.00736476,...   \n",
              "2      [array([ 0.00746889, -0.05086312,  0.00736476,...   \n",
              "3      [array([ 0.00746889, -0.05086312,  0.00736476,...   \n",
              "4      [array([ 0.00746889, -0.05086312,  0.00736476,...   \n",
              "...                                                  ...   \n",
              "87593  [array([ 0.00746889, -0.05648201,  0.10629363,...   \n",
              "87594  [array([ 0.00746889, -0.05648201,  0.10629363,...   \n",
              "87595  [array([ 0.00746889, -0.05648201,  0.10629363,...   \n",
              "87596  [array([ 0.00746889, -0.05648201,  0.10629363,...   \n",
              "87597  [array([ 0.00746889, -0.05648201,  0.10629363,...   \n",
              "\n",
              "                                               quest_emb  \\\n",
              "0      [[ 0.00746889  0.02421027  0.06961633 ...  0.0...   \n",
              "1      [[ 0.00746889 -0.03348338  0.04054592 ... -0.0...   \n",
              "2      [[ 0.00746889 -0.04394472  0.14385942 ...  0.0...   \n",
              "3      [[ 0.00746889 -0.02113509  0.08985032 ...  0.0...   \n",
              "4      [[ 0.00746889 -0.02515129  0.08926863 ...  0.0...   \n",
              "...                                                  ...   \n",
              "87593  [[ 0.00746889 -0.03403048  0.06046114 ...  0.0...   \n",
              "87594  [[ 0.00746889 -0.05823731 -0.00707996 ... -0.0...   \n",
              "87595  [[ 0.00746889 -0.05044248  0.06999452 ...  0.0...   \n",
              "87596  [[ 0.00746889 -0.03403048  0.05538646 ...  0.0...   \n",
              "87597  [[ 0.00746889 -0.05823731  0.08288754 ... -0.0...   \n",
              "\n",
              "                                              cosine_sim  \\\n",
              "0      [0.6835565567016602, 0.5527453124523163, 0.574...   \n",
              "1      [0.6624992787837982, 0.5191770792007446, 0.592...   \n",
              "2      [0.6164608299732208, 0.4940056800842285, 0.521...   \n",
              "3      [0.6685060262680054, 0.6087148487567902, 0.695...   \n",
              "4      [0.7792749553918839, 0.528475284576416, 0.5735...   \n",
              "...                                                  ...   \n",
              "87593  [0.41991251707077026, 0.3826998472213745, 0.48...   \n",
              "87594  [0.7255948781967163, 0.698612630367279, 0.7624...   \n",
              "87595  [0.4843701124191284, 0.5179441869258881, 0.530...   \n",
              "87596  [0.49502629041671753, 0.4206138253211975, 0.52...   \n",
              "87597  [0.6605812907218933, 0.7128670513629913, 0.849...   \n",
              "\n",
              "                                           euclidean_dis  pred_idx_cos  \\\n",
              "0      [7.301305, 6.4764132, 7.214262, 6.9176197, 6.5...             5   \n",
              "1      [5.717004, 5.076439, 6.3408985, 3.5867877, 4.8...             3   \n",
              "2      [5.3495297, 4.8541417, 5.6286764, 2.8828857, 3...             3   \n",
              "3      [6.2550764, 6.3554144, 7.8789406, 4.5443306, 4...             3   \n",
              "4      [7.5543714, 5.692802, 6.6871767, 4.9444075, 5....             3   \n",
              "...                                                  ...           ...   \n",
              "87593          [4.760933, 4.116004, 6.391081, 5.7619123]             1   \n",
              "87594          [7.763542, 7.0988116, 9.420061, 9.603617]             1   \n",
              "87595         [5.394357, 5.4583673, 6.8717723, 6.434966]             0   \n",
              "87596         [5.523418, 4.4599686, 6.844032, 6.0133524]             1   \n",
              "87597        [7.2158666, 7.3852386, 10.605681, 9.032009]             0   \n",
              "\n",
              "       pred_idx_euc  \n",
              "0                 5  \n",
              "1                 3  \n",
              "2                 3  \n",
              "3                 3  \n",
              "4                 3  \n",
              "...             ...  \n",
              "87593             1  \n",
              "87594             1  \n",
              "87595             0  \n",
              "87596             1  \n",
              "87597             0  \n",
              "\n",
              "[87598 rows x 12 columns]"
            ]
          },
          "metadata": {
            "tags": []
          },
          "execution_count": 50
        }
      ]
    },
    {
      "cell_type": "code",
      "metadata": {
        "id": "9Cz3ECgLy3sh",
        "colab_type": "code",
        "colab": {},
        "outputId": "3ea40d15-58d6-45c5-cb77-eb1991e7ea7f"
      },
      "source": [
        "predicted.shape"
      ],
      "execution_count": 0,
      "outputs": [
        {
          "output_type": "execute_result",
          "data": {
            "text/plain": [
              "(87598, 12)"
            ]
          },
          "metadata": {
            "tags": []
          },
          "execution_count": 51
        }
      ]
    },
    {
      "cell_type": "code",
      "metadata": {
        "id": "wtJ0nIu4y3sl",
        "colab_type": "code",
        "colab": {},
        "outputId": "7a8fc94c-b99b-49d7-83de-ee99b637086b"
      },
      "source": [
        "#ast.literal_eval to print sentence-wise\n",
        "ast.literal_eval(predicted[\"sentences\"][0])"
      ],
      "execution_count": 0,
      "outputs": [
        {
          "output_type": "execute_result",
          "data": {
            "text/plain": [
              "['Architecturally, the school has a Catholic character.',\n",
              " \"Atop the Main Building's gold dome is a golden statue of the Virgin Mary.\",\n",
              " 'Immediately in front of the Main Building and facing it, is a copper statue of Christ with arms upraised with the legend \"Venite Ad Me Omnes\".',\n",
              " 'Next to the Main Building is the Basilica of the Sacred Heart.',\n",
              " 'Immediately behind the basilica is the Grotto, a Marian place of prayer and reflection.',\n",
              " 'It is a replica of the grotto at Lourdes, France where the Virgin Mary reputedly appeared to Saint Bernadette Soubirous in 1858.',\n",
              " 'At the end of the main drive (and in a direct line that connects through 3 statues and the Gold Dome), is a simple, modern stone statue of Mary.']"
            ]
          },
          "metadata": {
            "tags": []
          },
          "execution_count": 52
        }
      ]
    },
    {
      "cell_type": "code",
      "metadata": {
        "id": "iWmix4V8y3sr",
        "colab_type": "code",
        "colab": {}
      },
      "source": [
        "#Here all the paragraphs with number of sentences 10 or less are taken from data\n",
        "predicted = predicted[predicted[\"sentences\"].apply(lambda x: len(ast.literal_eval(x)))<11].reset_index(drop=True)"
      ],
      "execution_count": 0,
      "outputs": []
    },
    {
      "cell_type": "code",
      "metadata": {
        "id": "mKfT73A5y3sw",
        "colab_type": "code",
        "colab": {}
      },
      "source": [
        "#Every array value of cosine similarity and euclidean distance for each sentence are separated in columns as we have to work\n",
        "#on the numerical distance data and every Question Answer pair has array for euclidean distance and cosine similarity\n",
        "def create_features(predicted):\n",
        "    train = pd.DataFrame()\n",
        "     \n",
        "    for k in range(len(predicted[\"euclidean_dis\"])):\n",
        "        dis = ast.literal_eval(predicted[\"euclidean_dis\"][k])\n",
        "        for i in range(len(dis)):\n",
        "            train.loc[k, \"column_euc_\"+\"%s\"%i] = dis[i]\n",
        "    \n",
        "    print(\"Finished\")\n",
        "    \n",
        "    for k in range(len(predicted[\"cosine_sim\"])):\n",
        "        dis = ast.literal_eval(predicted[\"cosine_sim\"][k].replace(\"nan\",\"1\"))\n",
        "        for i in range(len(dis)):\n",
        "            train.loc[k, \"column_cos_\"+\"%s\"%i] = dis[i]\n",
        "            \n",
        "    train[\"target\"] = predicted[\"target\"]\n",
        "    return train"
      ],
      "execution_count": 0,
      "outputs": []
    },
    {
      "cell_type": "code",
      "metadata": {
        "id": "pCH0bkXoy3sy",
        "colab_type": "code",
        "colab": {},
        "outputId": "2c6f869a-f7b8-41c4-99bb-c534f721fc41"
      },
      "source": [
        "# Call to create features and convert distances to columns\n",
        "train = create_features(predicted)"
      ],
      "execution_count": 0,
      "outputs": [
        {
          "output_type": "stream",
          "text": [
            "Finished\n"
          ],
          "name": "stdout"
        }
      ]
    },
    {
      "cell_type": "code",
      "metadata": {
        "id": "ApxI7iiUy3s0",
        "colab_type": "code",
        "colab": {}
      },
      "source": [
        "train.to_csv(\"train_final.csv\", index=None)"
      ],
      "execution_count": 0,
      "outputs": []
    },
    {
      "cell_type": "code",
      "metadata": {
        "id": "mJXeWON0y3s2",
        "colab_type": "code",
        "colab": {}
      },
      "source": [
        "#Read the new CSV file\n",
        "train1 = pd.read_csv(\"train_final.csv\").reset_index(drop=True)"
      ],
      "execution_count": 0,
      "outputs": []
    },
    {
      "cell_type": "code",
      "metadata": {
        "id": "sMegNUjpy3s4",
        "colab_type": "code",
        "colab": {},
        "outputId": "45c04c80-9ead-41f3-8137-3abf614a6eaa"
      },
      "source": [
        "train1"
      ],
      "execution_count": 0,
      "outputs": [
        {
          "output_type": "execute_result",
          "data": {
            "text/html": [
              "<div>\n",
              "<style scoped>\n",
              "    .dataframe tbody tr th:only-of-type {\n",
              "        vertical-align: middle;\n",
              "    }\n",
              "\n",
              "    .dataframe tbody tr th {\n",
              "        vertical-align: top;\n",
              "    }\n",
              "\n",
              "    .dataframe thead th {\n",
              "        text-align: right;\n",
              "    }\n",
              "</style>\n",
              "<table border=\"1\" class=\"dataframe\">\n",
              "  <thead>\n",
              "    <tr style=\"text-align: right;\">\n",
              "      <th></th>\n",
              "      <th>column_euc_0</th>\n",
              "      <th>column_euc_1</th>\n",
              "      <th>column_euc_2</th>\n",
              "      <th>column_euc_3</th>\n",
              "      <th>column_euc_4</th>\n",
              "      <th>column_euc_5</th>\n",
              "      <th>column_euc_6</th>\n",
              "      <th>column_euc_7</th>\n",
              "      <th>column_euc_8</th>\n",
              "      <th>column_euc_9</th>\n",
              "      <th>...</th>\n",
              "      <th>column_cos_1</th>\n",
              "      <th>column_cos_2</th>\n",
              "      <th>column_cos_3</th>\n",
              "      <th>column_cos_4</th>\n",
              "      <th>column_cos_5</th>\n",
              "      <th>column_cos_6</th>\n",
              "      <th>column_cos_7</th>\n",
              "      <th>column_cos_8</th>\n",
              "      <th>column_cos_9</th>\n",
              "      <th>target</th>\n",
              "    </tr>\n",
              "  </thead>\n",
              "  <tbody>\n",
              "    <tr>\n",
              "      <th>0</th>\n",
              "      <td>7.301305</td>\n",
              "      <td>6.476413</td>\n",
              "      <td>7.214262</td>\n",
              "      <td>6.917620</td>\n",
              "      <td>6.519748</td>\n",
              "      <td>3.641007</td>\n",
              "      <td>6.908043</td>\n",
              "      <td>NaN</td>\n",
              "      <td>NaN</td>\n",
              "      <td>NaN</td>\n",
              "      <td>...</td>\n",
              "      <td>0.552745</td>\n",
              "      <td>0.574794</td>\n",
              "      <td>0.624309</td>\n",
              "      <td>0.619026</td>\n",
              "      <td>0.258351</td>\n",
              "      <td>0.574366</td>\n",
              "      <td>NaN</td>\n",
              "      <td>NaN</td>\n",
              "      <td>NaN</td>\n",
              "      <td>5</td>\n",
              "    </tr>\n",
              "    <tr>\n",
              "      <th>1</th>\n",
              "      <td>5.717004</td>\n",
              "      <td>5.076439</td>\n",
              "      <td>6.340898</td>\n",
              "      <td>3.586788</td>\n",
              "      <td>4.826955</td>\n",
              "      <td>7.294750</td>\n",
              "      <td>6.392016</td>\n",
              "      <td>NaN</td>\n",
              "      <td>NaN</td>\n",
              "      <td>NaN</td>\n",
              "      <td>...</td>\n",
              "      <td>0.519177</td>\n",
              "      <td>0.592157</td>\n",
              "      <td>0.395893</td>\n",
              "      <td>0.572930</td>\n",
              "      <td>0.594844</td>\n",
              "      <td>0.632305</td>\n",
              "      <td>NaN</td>\n",
              "      <td>NaN</td>\n",
              "      <td>NaN</td>\n",
              "      <td>2</td>\n",
              "    </tr>\n",
              "    <tr>\n",
              "      <th>2</th>\n",
              "      <td>5.349530</td>\n",
              "      <td>4.854142</td>\n",
              "      <td>5.628676</td>\n",
              "      <td>2.882886</td>\n",
              "      <td>3.573071</td>\n",
              "      <td>6.292664</td>\n",
              "      <td>5.433945</td>\n",
              "      <td>NaN</td>\n",
              "      <td>NaN</td>\n",
              "      <td>NaN</td>\n",
              "      <td>...</td>\n",
              "      <td>0.494006</td>\n",
              "      <td>0.521783</td>\n",
              "      <td>0.316489</td>\n",
              "      <td>0.421474</td>\n",
              "      <td>0.506190</td>\n",
              "      <td>0.533841</td>\n",
              "      <td>NaN</td>\n",
              "      <td>NaN</td>\n",
              "      <td>NaN</td>\n",
              "      <td>3</td>\n",
              "    </tr>\n",
              "    <tr>\n",
              "      <th>3</th>\n",
              "      <td>6.255076</td>\n",
              "      <td>6.355414</td>\n",
              "      <td>7.878941</td>\n",
              "      <td>4.544331</td>\n",
              "      <td>4.577210</td>\n",
              "      <td>7.192090</td>\n",
              "      <td>7.930581</td>\n",
              "      <td>NaN</td>\n",
              "      <td>NaN</td>\n",
              "      <td>NaN</td>\n",
              "      <td>...</td>\n",
              "      <td>0.608715</td>\n",
              "      <td>0.695520</td>\n",
              "      <td>0.465277</td>\n",
              "      <td>0.498301</td>\n",
              "      <td>0.558794</td>\n",
              "      <td>0.736132</td>\n",
              "      <td>NaN</td>\n",
              "      <td>NaN</td>\n",
              "      <td>NaN</td>\n",
              "      <td>4</td>\n",
              "    </tr>\n",
              "    <tr>\n",
              "      <th>4</th>\n",
              "      <td>7.554371</td>\n",
              "      <td>5.692802</td>\n",
              "      <td>6.687177</td>\n",
              "      <td>4.944407</td>\n",
              "      <td>5.559352</td>\n",
              "      <td>7.806414</td>\n",
              "      <td>6.598026</td>\n",
              "      <td>NaN</td>\n",
              "      <td>NaN</td>\n",
              "      <td>NaN</td>\n",
              "      <td>...</td>\n",
              "      <td>0.528475</td>\n",
              "      <td>0.573556</td>\n",
              "      <td>0.488644</td>\n",
              "      <td>0.583152</td>\n",
              "      <td>0.594557</td>\n",
              "      <td>0.594187</td>\n",
              "      <td>NaN</td>\n",
              "      <td>NaN</td>\n",
              "      <td>NaN</td>\n",
              "      <td>1</td>\n",
              "    </tr>\n",
              "    <tr>\n",
              "      <th>...</th>\n",
              "      <td>...</td>\n",
              "      <td>...</td>\n",
              "      <td>...</td>\n",
              "      <td>...</td>\n",
              "      <td>...</td>\n",
              "      <td>...</td>\n",
              "      <td>...</td>\n",
              "      <td>...</td>\n",
              "      <td>...</td>\n",
              "      <td>...</td>\n",
              "      <td>...</td>\n",
              "      <td>...</td>\n",
              "      <td>...</td>\n",
              "      <td>...</td>\n",
              "      <td>...</td>\n",
              "      <td>...</td>\n",
              "      <td>...</td>\n",
              "      <td>...</td>\n",
              "      <td>...</td>\n",
              "      <td>...</td>\n",
              "      <td>...</td>\n",
              "    </tr>\n",
              "    <tr>\n",
              "      <th>85114</th>\n",
              "      <td>4.760933</td>\n",
              "      <td>4.116004</td>\n",
              "      <td>6.391081</td>\n",
              "      <td>5.761912</td>\n",
              "      <td>NaN</td>\n",
              "      <td>NaN</td>\n",
              "      <td>NaN</td>\n",
              "      <td>NaN</td>\n",
              "      <td>NaN</td>\n",
              "      <td>NaN</td>\n",
              "      <td>...</td>\n",
              "      <td>0.382700</td>\n",
              "      <td>0.485660</td>\n",
              "      <td>0.461544</td>\n",
              "      <td>NaN</td>\n",
              "      <td>NaN</td>\n",
              "      <td>NaN</td>\n",
              "      <td>NaN</td>\n",
              "      <td>NaN</td>\n",
              "      <td>NaN</td>\n",
              "      <td>1</td>\n",
              "    </tr>\n",
              "    <tr>\n",
              "      <th>85115</th>\n",
              "      <td>7.763542</td>\n",
              "      <td>7.098812</td>\n",
              "      <td>9.420061</td>\n",
              "      <td>9.603617</td>\n",
              "      <td>NaN</td>\n",
              "      <td>NaN</td>\n",
              "      <td>NaN</td>\n",
              "      <td>NaN</td>\n",
              "      <td>NaN</td>\n",
              "      <td>NaN</td>\n",
              "      <td>...</td>\n",
              "      <td>0.698613</td>\n",
              "      <td>0.762461</td>\n",
              "      <td>0.821555</td>\n",
              "      <td>NaN</td>\n",
              "      <td>NaN</td>\n",
              "      <td>NaN</td>\n",
              "      <td>NaN</td>\n",
              "      <td>NaN</td>\n",
              "      <td>NaN</td>\n",
              "      <td>2</td>\n",
              "    </tr>\n",
              "    <tr>\n",
              "      <th>85116</th>\n",
              "      <td>5.394357</td>\n",
              "      <td>5.458367</td>\n",
              "      <td>6.871772</td>\n",
              "      <td>6.434966</td>\n",
              "      <td>NaN</td>\n",
              "      <td>NaN</td>\n",
              "      <td>NaN</td>\n",
              "      <td>NaN</td>\n",
              "      <td>NaN</td>\n",
              "      <td>NaN</td>\n",
              "      <td>...</td>\n",
              "      <td>0.517944</td>\n",
              "      <td>0.530936</td>\n",
              "      <td>0.525017</td>\n",
              "      <td>NaN</td>\n",
              "      <td>NaN</td>\n",
              "      <td>NaN</td>\n",
              "      <td>NaN</td>\n",
              "      <td>NaN</td>\n",
              "      <td>NaN</td>\n",
              "      <td>2</td>\n",
              "    </tr>\n",
              "    <tr>\n",
              "      <th>85117</th>\n",
              "      <td>5.523418</td>\n",
              "      <td>4.459969</td>\n",
              "      <td>6.844032</td>\n",
              "      <td>6.013352</td>\n",
              "      <td>NaN</td>\n",
              "      <td>NaN</td>\n",
              "      <td>NaN</td>\n",
              "      <td>NaN</td>\n",
              "      <td>NaN</td>\n",
              "      <td>NaN</td>\n",
              "      <td>...</td>\n",
              "      <td>0.420614</td>\n",
              "      <td>0.527569</td>\n",
              "      <td>0.487704</td>\n",
              "      <td>NaN</td>\n",
              "      <td>NaN</td>\n",
              "      <td>NaN</td>\n",
              "      <td>NaN</td>\n",
              "      <td>NaN</td>\n",
              "      <td>NaN</td>\n",
              "      <td>1</td>\n",
              "    </tr>\n",
              "    <tr>\n",
              "      <th>85118</th>\n",
              "      <td>7.215867</td>\n",
              "      <td>7.385239</td>\n",
              "      <td>10.605681</td>\n",
              "      <td>9.032009</td>\n",
              "      <td>NaN</td>\n",
              "      <td>NaN</td>\n",
              "      <td>NaN</td>\n",
              "      <td>NaN</td>\n",
              "      <td>NaN</td>\n",
              "      <td>NaN</td>\n",
              "      <td>...</td>\n",
              "      <td>0.712867</td>\n",
              "      <td>0.849905</td>\n",
              "      <td>0.757005</td>\n",
              "      <td>NaN</td>\n",
              "      <td>NaN</td>\n",
              "      <td>NaN</td>\n",
              "      <td>NaN</td>\n",
              "      <td>NaN</td>\n",
              "      <td>NaN</td>\n",
              "      <td>0</td>\n",
              "    </tr>\n",
              "  </tbody>\n",
              "</table>\n",
              "<p>85119 rows × 21 columns</p>\n",
              "</div>"
            ],
            "text/plain": [
              "       column_euc_0  column_euc_1  column_euc_2  column_euc_3  column_euc_4  \\\n",
              "0          7.301305      6.476413      7.214262      6.917620      6.519748   \n",
              "1          5.717004      5.076439      6.340898      3.586788      4.826955   \n",
              "2          5.349530      4.854142      5.628676      2.882886      3.573071   \n",
              "3          6.255076      6.355414      7.878941      4.544331      4.577210   \n",
              "4          7.554371      5.692802      6.687177      4.944407      5.559352   \n",
              "...             ...           ...           ...           ...           ...   \n",
              "85114      4.760933      4.116004      6.391081      5.761912           NaN   \n",
              "85115      7.763542      7.098812      9.420061      9.603617           NaN   \n",
              "85116      5.394357      5.458367      6.871772      6.434966           NaN   \n",
              "85117      5.523418      4.459969      6.844032      6.013352           NaN   \n",
              "85118      7.215867      7.385239     10.605681      9.032009           NaN   \n",
              "\n",
              "       column_euc_5  column_euc_6  column_euc_7  column_euc_8  column_euc_9  \\\n",
              "0          3.641007      6.908043           NaN           NaN           NaN   \n",
              "1          7.294750      6.392016           NaN           NaN           NaN   \n",
              "2          6.292664      5.433945           NaN           NaN           NaN   \n",
              "3          7.192090      7.930581           NaN           NaN           NaN   \n",
              "4          7.806414      6.598026           NaN           NaN           NaN   \n",
              "...             ...           ...           ...           ...           ...   \n",
              "85114           NaN           NaN           NaN           NaN           NaN   \n",
              "85115           NaN           NaN           NaN           NaN           NaN   \n",
              "85116           NaN           NaN           NaN           NaN           NaN   \n",
              "85117           NaN           NaN           NaN           NaN           NaN   \n",
              "85118           NaN           NaN           NaN           NaN           NaN   \n",
              "\n",
              "       ...  column_cos_1  column_cos_2  column_cos_3  column_cos_4  \\\n",
              "0      ...      0.552745      0.574794      0.624309      0.619026   \n",
              "1      ...      0.519177      0.592157      0.395893      0.572930   \n",
              "2      ...      0.494006      0.521783      0.316489      0.421474   \n",
              "3      ...      0.608715      0.695520      0.465277      0.498301   \n",
              "4      ...      0.528475      0.573556      0.488644      0.583152   \n",
              "...    ...           ...           ...           ...           ...   \n",
              "85114  ...      0.382700      0.485660      0.461544           NaN   \n",
              "85115  ...      0.698613      0.762461      0.821555           NaN   \n",
              "85116  ...      0.517944      0.530936      0.525017           NaN   \n",
              "85117  ...      0.420614      0.527569      0.487704           NaN   \n",
              "85118  ...      0.712867      0.849905      0.757005           NaN   \n",
              "\n",
              "       column_cos_5  column_cos_6  column_cos_7  column_cos_8  column_cos_9  \\\n",
              "0          0.258351      0.574366           NaN           NaN           NaN   \n",
              "1          0.594844      0.632305           NaN           NaN           NaN   \n",
              "2          0.506190      0.533841           NaN           NaN           NaN   \n",
              "3          0.558794      0.736132           NaN           NaN           NaN   \n",
              "4          0.594557      0.594187           NaN           NaN           NaN   \n",
              "...             ...           ...           ...           ...           ...   \n",
              "85114           NaN           NaN           NaN           NaN           NaN   \n",
              "85115           NaN           NaN           NaN           NaN           NaN   \n",
              "85116           NaN           NaN           NaN           NaN           NaN   \n",
              "85117           NaN           NaN           NaN           NaN           NaN   \n",
              "85118           NaN           NaN           NaN           NaN           NaN   \n",
              "\n",
              "       target  \n",
              "0           5  \n",
              "1           2  \n",
              "2           3  \n",
              "3           4  \n",
              "4           1  \n",
              "...       ...  \n",
              "85114       1  \n",
              "85115       2  \n",
              "85116       2  \n",
              "85117       1  \n",
              "85118       0  \n",
              "\n",
              "[85119 rows x 21 columns]"
            ]
          },
          "metadata": {
            "tags": []
          },
          "execution_count": 175
        }
      ]
    },
    {
      "cell_type": "code",
      "metadata": {
        "id": "fqQ29JGJy3s7",
        "colab_type": "code",
        "colab": {},
        "outputId": "0c0cf524-02d9-49d0-fb64-64ca0f57918f"
      },
      "source": [
        "#Finding Maximum for all the columns\n",
        "train1.apply(max, axis = 0)"
      ],
      "execution_count": 0,
      "outputs": [
        {
          "output_type": "execute_result",
          "data": {
            "text/plain": [
              "column_euc_0    29.927914\n",
              "column_euc_1    40.290561\n",
              "column_euc_2    33.286404\n",
              "column_euc_3    34.140771\n",
              "column_euc_4    36.115491\n",
              "column_euc_5    35.623532\n",
              "column_euc_6    39.640774\n",
              "column_euc_7          NaN\n",
              "column_euc_8          NaN\n",
              "column_euc_9          NaN\n",
              "column_cos_0     1.491517\n",
              "column_cos_1     1.489619\n",
              "column_cos_2     1.455926\n",
              "column_cos_3     1.490736\n",
              "column_cos_4     1.415583\n",
              "column_cos_5     1.355459\n",
              "column_cos_6     1.418385\n",
              "column_cos_7          NaN\n",
              "column_cos_8          NaN\n",
              "column_cos_9          NaN\n",
              "target           9.000000\n",
              "dtype: float64"
            ]
          },
          "metadata": {
            "tags": []
          },
          "execution_count": 176
        }
      ]
    },
    {
      "cell_type": "code",
      "metadata": {
        "id": "u9pXu7k_y3s_",
        "colab_type": "code",
        "colab": {}
      },
      "source": [
        "#As for all the sentences the number of array values in cosine similarity and euclidean distance array are not same so we\n",
        "#replace those values accordingly by 60 and 1\n",
        "subset1 = train1.iloc[:,:10].fillna(60)\n",
        "subset2 = train1.iloc[:,10:].fillna(1)"
      ],
      "execution_count": 0,
      "outputs": []
    },
    {
      "cell_type": "code",
      "metadata": {
        "id": "H0WPPYkVy3tC",
        "colab_type": "code",
        "colab": {},
        "outputId": "a5eea3b9-d911-44f9-a2be-5d25f4d48921"
      },
      "source": [
        " subset1.head(3)"
      ],
      "execution_count": 0,
      "outputs": [
        {
          "output_type": "execute_result",
          "data": {
            "text/html": [
              "<div>\n",
              "<style scoped>\n",
              "    .dataframe tbody tr th:only-of-type {\n",
              "        vertical-align: middle;\n",
              "    }\n",
              "\n",
              "    .dataframe tbody tr th {\n",
              "        vertical-align: top;\n",
              "    }\n",
              "\n",
              "    .dataframe thead th {\n",
              "        text-align: right;\n",
              "    }\n",
              "</style>\n",
              "<table border=\"1\" class=\"dataframe\">\n",
              "  <thead>\n",
              "    <tr style=\"text-align: right;\">\n",
              "      <th></th>\n",
              "      <th>column_euc_0</th>\n",
              "      <th>column_euc_1</th>\n",
              "      <th>column_euc_2</th>\n",
              "      <th>column_euc_3</th>\n",
              "      <th>column_euc_4</th>\n",
              "      <th>column_euc_5</th>\n",
              "      <th>column_euc_6</th>\n",
              "      <th>column_euc_7</th>\n",
              "      <th>column_euc_8</th>\n",
              "      <th>column_euc_9</th>\n",
              "    </tr>\n",
              "  </thead>\n",
              "  <tbody>\n",
              "    <tr>\n",
              "      <th>0</th>\n",
              "      <td>7.301305</td>\n",
              "      <td>6.476413</td>\n",
              "      <td>7.214262</td>\n",
              "      <td>6.917620</td>\n",
              "      <td>6.519748</td>\n",
              "      <td>3.641007</td>\n",
              "      <td>6.908043</td>\n",
              "      <td>60.0</td>\n",
              "      <td>60.0</td>\n",
              "      <td>60.0</td>\n",
              "    </tr>\n",
              "    <tr>\n",
              "      <th>1</th>\n",
              "      <td>5.717004</td>\n",
              "      <td>5.076439</td>\n",
              "      <td>6.340898</td>\n",
              "      <td>3.586788</td>\n",
              "      <td>4.826955</td>\n",
              "      <td>7.294750</td>\n",
              "      <td>6.392016</td>\n",
              "      <td>60.0</td>\n",
              "      <td>60.0</td>\n",
              "      <td>60.0</td>\n",
              "    </tr>\n",
              "    <tr>\n",
              "      <th>2</th>\n",
              "      <td>5.349530</td>\n",
              "      <td>4.854142</td>\n",
              "      <td>5.628676</td>\n",
              "      <td>2.882886</td>\n",
              "      <td>3.573071</td>\n",
              "      <td>6.292664</td>\n",
              "      <td>5.433945</td>\n",
              "      <td>60.0</td>\n",
              "      <td>60.0</td>\n",
              "      <td>60.0</td>\n",
              "    </tr>\n",
              "  </tbody>\n",
              "</table>\n",
              "</div>"
            ],
            "text/plain": [
              "   column_euc_0  column_euc_1  column_euc_2  column_euc_3  column_euc_4  \\\n",
              "0      7.301305      6.476413      7.214262      6.917620      6.519748   \n",
              "1      5.717004      5.076439      6.340898      3.586788      4.826955   \n",
              "2      5.349530      4.854142      5.628676      2.882886      3.573071   \n",
              "\n",
              "   column_euc_5  column_euc_6  column_euc_7  column_euc_8  column_euc_9  \n",
              "0      3.641007      6.908043          60.0          60.0          60.0  \n",
              "1      7.294750      6.392016          60.0          60.0          60.0  \n",
              "2      6.292664      5.433945          60.0          60.0          60.0  "
            ]
          },
          "metadata": {
            "tags": []
          },
          "execution_count": 178
        }
      ]
    },
    {
      "cell_type": "code",
      "metadata": {
        "id": "ItIIaeqMy3tE",
        "colab_type": "code",
        "colab": {}
      },
      "source": [
        "# After the update of NaN values in both euclidean and cosine subsets they are concatenated for final use\n",
        "train2 = pd.concat([subset1, subset2],axis=1, join_axes=[subset1.index])"
      ],
      "execution_count": 0,
      "outputs": []
    },
    {
      "cell_type": "code",
      "metadata": {
        "id": "dmXJkYgPy3tI",
        "colab_type": "code",
        "colab": {},
        "outputId": "bbf8cf03-ba1d-4c53-aa8d-9b9a9132acf3"
      },
      "source": [
        "# Maximum for all columns\n",
        "train2.apply(max, axis = 0)"
      ],
      "execution_count": 0,
      "outputs": [
        {
          "output_type": "execute_result",
          "data": {
            "text/plain": [
              "column_euc_0    29.927914\n",
              "column_euc_1    60.000000\n",
              "column_euc_2    60.000000\n",
              "column_euc_3    60.000000\n",
              "column_euc_4    60.000000\n",
              "column_euc_5    60.000000\n",
              "column_euc_6    60.000000\n",
              "column_euc_7    60.000000\n",
              "column_euc_8    60.000000\n",
              "column_euc_9    60.000000\n",
              "column_cos_0     1.491517\n",
              "column_cos_1     1.489619\n",
              "column_cos_2     1.455926\n",
              "column_cos_3     1.490736\n",
              "column_cos_4     1.415583\n",
              "column_cos_5     1.355459\n",
              "column_cos_6     1.418385\n",
              "column_cos_7     1.354246\n",
              "column_cos_8     1.315012\n",
              "column_cos_9     1.159472\n",
              "target           9.000000\n",
              "dtype: float64"
            ]
          },
          "metadata": {
            "tags": []
          },
          "execution_count": 180
        }
      ]
    },
    {
      "cell_type": "code",
      "metadata": {
        "id": "s-CpX6Asy3tL",
        "colab_type": "code",
        "colab": {}
      },
      "source": [
        "# Normalization of final train data between 0 to 1\n",
        "scaler = MinMaxScaler()\n",
        "X = scaler.fit_transform(train2.iloc[:,:-1])"
      ],
      "execution_count": 0,
      "outputs": []
    },
    {
      "cell_type": "code",
      "metadata": {
        "id": "IoTlgTP3y3tN",
        "colab_type": "code",
        "colab": {},
        "outputId": "05c15f01-0c6b-414a-e088-3dbe1d0c7daf"
      },
      "source": [
        "X.shape"
      ],
      "execution_count": 0,
      "outputs": [
        {
          "output_type": "execute_result",
          "data": {
            "text/plain": [
              "(85119, 20)"
            ]
          },
          "metadata": {
            "tags": []
          },
          "execution_count": 182
        }
      ]
    },
    {
      "cell_type": "code",
      "metadata": {
        "id": "UCyQdSXVy3tQ",
        "colab_type": "code",
        "colab": {},
        "outputId": "b1a2b2bc-c9a2-4267-a25d-9d61b326929f"
      },
      "source": [
        "train.iloc[:,-1]"
      ],
      "execution_count": 0,
      "outputs": [
        {
          "output_type": "execute_result",
          "data": {
            "text/plain": [
              "0      1.1\n",
              "1      1.1\n",
              "2      1.1\n",
              "3      1.1\n",
              "4      1.1\n",
              "      ... \n",
              "437    1.1\n",
              "438    1.1\n",
              "439    1.1\n",
              "440    1.1\n",
              "441    1.1\n",
              "Name: version, Length: 442, dtype: float64"
            ]
          },
          "metadata": {
            "tags": []
          },
          "execution_count": 183
        }
      ]
    },
    {
      "cell_type": "markdown",
      "metadata": {
        "id": "Fb6uR2N1y3tS",
        "colab_type": "text"
      },
      "source": [
        "## Obtaining Eigen Values and Vectors"
      ]
    },
    {
      "cell_type": "code",
      "metadata": {
        "id": "kVa-xShSy3tS",
        "colab_type": "code",
        "colab": {}
      },
      "source": [
        "#calculating eigen values\n",
        "eigvals, eigvecs = np.linalg.eig(np.matmul(X.T,X)) #finding eigen values and vectors from XX^T\n",
        "idx = eigvals.argsort()[::-1]   #obtaining the eigen values indices\n",
        "eigvals = eigvals[idx] #sorting the eigen values\n",
        "eigvecs = eigvecs[:,idx] #obtaining eigen vectors from corresponding eigen values"
      ],
      "execution_count": 0,
      "outputs": []
    },
    {
      "cell_type": "code",
      "metadata": {
        "id": "3W3i1suIy3tU",
        "colab_type": "code",
        "colab": {},
        "outputId": "df9f2d5c-fd73-4097-a6c1-96fd8b2fe835"
      },
      "source": [
        "np.matmul(X.T,X).shape"
      ],
      "execution_count": 0,
      "outputs": [
        {
          "output_type": "execute_result",
          "data": {
            "text/plain": [
              "(20, 20)"
            ]
          },
          "metadata": {
            "tags": []
          },
          "execution_count": 185
        }
      ]
    },
    {
      "cell_type": "code",
      "metadata": {
        "id": "wxdXVOhsy3tV",
        "colab_type": "code",
        "colab": {},
        "outputId": "6c5b9317-8688-4242-e123-36d188dccba2"
      },
      "source": [
        "eigvals"
      ],
      "execution_count": 0,
      "outputs": [
        {
          "output_type": "execute_result",
          "data": {
            "text/plain": [
              "array([6.82719996e+05, 2.69746040e+04, 1.25780234e+04, 6.35226721e+03,\n",
              "       4.69533312e+03, 3.65588802e+03, 2.76153078e+03, 1.85492816e+03,\n",
              "       1.24731151e+03, 1.03511958e+03, 7.08657571e+02, 4.46083726e+02,\n",
              "       3.15441411e+02, 2.77861826e+02, 2.56116509e+02, 1.99118547e+02,\n",
              "       1.82047965e+02, 1.04305528e+02, 6.93401787e+01, 3.42316421e+01])"
            ]
          },
          "metadata": {
            "tags": []
          },
          "execution_count": 186
        }
      ]
    },
    {
      "cell_type": "code",
      "metadata": {
        "id": "9T_WK0nay3tX",
        "colab_type": "code",
        "colab": {},
        "outputId": "fdb9006b-46dd-440b-a96c-7ff32def1eb1"
      },
      "source": [
        "eigvecs"
      ],
      "execution_count": 0,
      "outputs": [
        {
          "output_type": "execute_result",
          "data": {
            "text/plain": [
              "array([[ 6.93143340e-02,  4.40384176e-02, -5.71697628e-02,\n",
              "        -4.60286463e-02,  7.86862204e-02,  3.20841027e-03,\n",
              "        -1.31578012e-01,  1.50141754e-01,  3.53369469e-02,\n",
              "         1.56050849e-01, -1.60877628e-01, -8.87047165e-04,\n",
              "         2.98537964e-02,  1.61594223e-02,  6.01674787e-02,\n",
              "        -9.28056556e-01, -1.55344508e-01,  3.91988386e-03,\n",
              "         2.45299369e-03, -1.06887941e-02],\n",
              "       [ 4.33177706e-02, -2.12674931e-02, -1.13206060e-01,\n",
              "         7.27892948e-02,  1.55998821e-01, -1.76245008e-01,\n",
              "        -3.21386712e-02,  1.70006201e-01, -7.76755829e-01,\n",
              "        -2.27542320e-01, -1.13777166e-01, -1.85875251e-01,\n",
              "        -2.42610748e-01, -3.64104969e-01,  6.47918536e-03,\n",
              "        -1.11368453e-02, -1.64065350e-03, -2.54489850e-04,\n",
              "        -1.34752509e-03,  1.21274016e-03],\n",
              "       [ 6.92391377e-02, -1.84138391e-01, -3.49158152e-01,\n",
              "         3.74848458e-01,  3.40053068e-01, -5.50567252e-01,\n",
              "         2.71750119e-01, -2.09923960e-01,  1.82398663e-01,\n",
              "         1.01959324e-02, -1.11341373e-01, -1.97443682e-01,\n",
              "        -5.62247225e-02,  2.71087707e-01,  2.46963093e-02,\n",
              "        -1.29461171e-02, -3.52436917e-03,  1.69073416e-03,\n",
              "         1.71143655e-03, -9.26549625e-05],\n",
              "       [ 1.26333243e-01, -4.59498420e-01, -4.88984695e-01,\n",
              "         3.46438727e-01, -2.64667924e-01,  4.91095033e-01,\n",
              "        -1.47923556e-02, -5.02255115e-03, -5.89979785e-02,\n",
              "        -3.40374254e-03, -1.09420076e-01, -2.83221040e-02,\n",
              "         2.40932913e-01, -7.53541646e-02, -1.49247977e-01,\n",
              "        -5.97803903e-03,  1.20704200e-04,  2.62359682e-04,\n",
              "        -1.58949281e-03,  5.86534249e-04],\n",
              "       [ 2.02580496e-01, -5.89068509e-01, -2.20851077e-03,\n",
              "        -5.54580891e-01, -2.79774881e-01, -3.48638559e-01,\n",
              "        -1.13396163e-02, -3.96978133e-02, -3.19569764e-02,\n",
              "         2.15012179e-02, -9.93361361e-02,  8.66816004e-02,\n",
              "         8.01637601e-02, -2.82142242e-02,  2.67168121e-01,\n",
              "         3.48355967e-02, -6.46798401e-02,  7.08141554e-04,\n",
              "        -1.65248647e-03,  1.01643921e-03],\n",
              "       [ 2.65062204e-01, -3.91524575e-01,  4.65107205e-01,\n",
              "         3.38512777e-02,  5.16109289e-01,  3.06403828e-01,\n",
              "         2.94816593e-01,  7.03737236e-02, -2.42725239e-02,\n",
              "         3.63890838e-02, -7.17073280e-02,  1.24079942e-01,\n",
              "        -5.26701995e-02,  1.93437506e-02, -8.98979136e-03,\n",
              "        -4.52357855e-02,  2.76756402e-01,  5.03519865e-02,\n",
              "        -6.81701547e-05, -1.60495473e-03],\n",
              "       [ 3.05746300e-01, -9.86849405e-02,  4.08917483e-01,\n",
              "         4.40147408e-01, -1.73046590e-01, -1.81366653e-01,\n",
              "        -5.34582230e-01, -2.91342830e-01, -6.90368213e-02,\n",
              "         8.54779317e-02, -3.04062082e-02,  9.11637517e-02,\n",
              "        -5.94084369e-02,  2.33940126e-02, -6.06730808e-02,\n",
              "         1.27429438e-03, -3.85444212e-02, -2.67062525e-01,\n",
              "         2.02087148e-02,  7.45460394e-03],\n",
              "       [ 3.27774222e-01,  1.02656530e-01,  1.68766958e-01,\n",
              "         2.54587554e-01, -3.93887140e-01, -1.80434211e-01,\n",
              "         3.32536141e-01,  5.62119949e-01,  1.44029726e-01,\n",
              "        -2.09371260e-01, -7.61519805e-02,  9.48903217e-02,\n",
              "        -6.28046029e-02,  2.36939580e-02, -7.28414712e-02,\n",
              "         9.02144887e-03, -9.71430885e-02,  7.77837804e-02,\n",
              "        -2.63996305e-01,  2.73223689e-03],\n",
              "       [ 3.39132720e-01,  2.05910602e-01, -3.22840783e-02,\n",
              "        -1.90323046e-02, -1.80131863e-01,  1.56037868e-02,\n",
              "         3.71339939e-01, -1.92077981e-01, -2.90880760e-01,\n",
              "         6.47169149e-01,  1.90631557e-01, -9.61612739e-03,\n",
              "        -3.60923985e-02,  1.21662724e-02, -4.79511770e-02,\n",
              "         1.26982223e-02, -8.78926024e-02,  1.10605853e-01,\n",
              "         1.39196373e-01,  2.24920089e-01],\n",
              "       [ 3.44329067e-01,  2.43659150e-01, -1.38189178e-01,\n",
              "        -1.60795488e-01,  3.11279589e-02,  1.09561623e-01,\n",
              "         7.23498836e-02, -3.46425071e-01,  3.38316186e-03,\n",
              "        -2.97451262e-01, -3.91499306e-01,  3.67594474e-01,\n",
              "        -1.75807605e-01,  5.53742188e-02, -1.62928326e-01,\n",
              "         3.04664663e-02, -1.96128982e-01,  1.56046271e-01,\n",
              "         2.01551937e-01, -3.11647195e-01],\n",
              "       [ 1.27181796e-01,  1.01469444e-01, -1.09476080e-01,\n",
              "        -9.82448918e-02,  1.61960531e-01,  1.62218557e-02,\n",
              "        -3.00511189e-01,  3.51107051e-01,  1.76644466e-01,\n",
              "         4.54861841e-01, -5.75888740e-01, -1.78933582e-01,\n",
              "        -8.43018421e-02, -6.81444776e-02, -2.79410527e-02,\n",
              "         3.07565657e-01,  5.36889760e-02, -1.59293904e-03,\n",
              "        -1.60376153e-03,  5.57872180e-03],\n",
              "       [ 1.29253005e-01,  8.27519184e-02, -1.36795170e-01,\n",
              "        -5.05473349e-02,  1.97939954e-01, -6.53613925e-02,\n",
              "        -2.21711914e-01,  2.95787812e-01, -3.51406361e-01,\n",
              "        -1.44647982e-02,  1.38052352e-01,  3.05684035e-01,\n",
              "         4.14742616e-01,  5.96662977e-01, -2.43396796e-02,\n",
              "         9.98628673e-02,  1.59601558e-02,  7.46367424e-04,\n",
              "         5.46985014e-03, -3.69929319e-03],\n",
              "       [ 1.37775250e-01,  2.19402175e-02, -2.26821204e-01,\n",
              "         6.77804753e-02,  2.65704617e-01, -2.07547242e-01,\n",
              "        -9.14936290e-02,  1.02743632e-01,  2.07255305e-01,\n",
              "         1.03764009e-01,  3.02367368e-01,  5.10010026e-01,\n",
              "         1.56667549e-01, -5.98653424e-01, -4.79202720e-02,\n",
              "         3.58061924e-02,  8.63229190e-03, -4.68743068e-03,\n",
              "        -5.33722996e-03,  6.16461325e-04],\n",
              "       [ 1.59102369e-01, -6.92562582e-02, -2.54587819e-01,\n",
              "         3.41076148e-02,  1.33390323e-02,  2.02323177e-01,\n",
              "        -1.86511829e-01,  1.43563777e-01,  9.04586779e-02,\n",
              "         8.10704445e-03,  3.32242000e-01,  1.06913615e-01,\n",
              "        -6.82856532e-01,  2.05154591e-01,  4.09978704e-01,\n",
              "         2.84996886e-02,  5.47768359e-03, -8.80014912e-04,\n",
              "         5.25151154e-03, -1.88686551e-03],\n",
              "       [ 1.94193897e-01, -1.12481258e-01, -8.21366037e-02,\n",
              "        -2.83902605e-01,  5.25234123e-03, -8.85272440e-02,\n",
              "        -1.48356339e-01,  6.38563632e-02,  1.00180280e-01,\n",
              "        -5.99266480e-02,  2.93499652e-01, -2.40916243e-01,\n",
              "        -2.18212180e-01,  7.49965543e-02, -7.61760917e-01,\n",
              "        -8.13306285e-02,  1.74213223e-01, -3.57720782e-03,\n",
              "         4.62621552e-03, -2.80440388e-03],\n",
              "       [ 2.24992433e-01, -4.14095198e-02,  8.75339229e-02,\n",
              "        -6.64023369e-02,  2.69877045e-01,  1.50820300e-01,\n",
              "        -1.62697903e-02,  5.47167445e-02,  9.09008029e-02,\n",
              "        -1.02355498e-01,  1.95670081e-01, -3.39656855e-01,\n",
              "         1.43813185e-01, -5.51238059e-02,  3.55998670e-02,\n",
              "         1.35317876e-01, -7.76674652e-01, -1.33469423e-01,\n",
              "        -1.60941479e-04,  4.82204686e-03],\n",
              "       [ 2.28857563e-01,  6.22261464e-02,  6.08527942e-02,\n",
              "         6.84474487e-02,  7.64970585e-03, -2.11013923e-02,\n",
              "        -2.59711749e-01, -9.72934606e-02,  5.87773799e-02,\n",
              "        -1.01030721e-01,  1.21100922e-01, -2.75982877e-01,\n",
              "         1.81923026e-01, -6.88165503e-02,  1.80911722e-01,\n",
              "        -4.21221703e-03,  1.38870844e-01,  8.12636944e-01,\n",
              "        -5.14074996e-02, -2.37675911e-02],\n",
              "       [ 2.42992945e-01,  1.30095534e-01, -1.28184769e-02,\n",
              "         1.13498690e-02, -7.81230514e-02, -2.10198961e-02,\n",
              "         5.42262276e-02,  1.69256091e-01,  1.16521457e-01,\n",
              "        -1.92605309e-01,  6.60141674e-02, -2.29435325e-01,\n",
              "         1.72421574e-01, -6.76835208e-02,  1.90725698e-01,\n",
              "        -3.05143194e-02,  2.79151761e-01, -2.48192001e-01,\n",
              "         7.52717137e-01, -1.43199798e-02],\n",
              "       [ 2.54688982e-01,  1.70810234e-01, -8.45857733e-02,\n",
              "        -8.71179204e-02, -3.63154623e-03,  5.10275300e-02,\n",
              "         6.99773205e-02, -1.14439836e-01, -3.98711571e-02,\n",
              "         9.20624545e-02,  1.24550663e-01, -2.21479849e-01,\n",
              "         1.50126133e-01, -5.27149404e-02,  1.71910074e-01,\n",
              "        -2.25746989e-02,  2.57519677e-01, -3.06663564e-01,\n",
              "        -4.31001972e-01, -6.28068762e-01],\n",
              "       [ 2.91513361e-01,  2.08474788e-01, -1.35436998e-01,\n",
              "        -1.52335456e-01,  7.35648726e-02,  9.42257547e-02,\n",
              "        -2.95461323e-02, -1.99887052e-01,  6.44943526e-02,\n",
              "        -2.75198249e-01, -1.18220390e-01, -4.41836376e-02,\n",
              "         8.08450440e-02, -2.49590767e-02,  1.10471151e-01,\n",
              "        -3.00629427e-02,  1.93954923e-01, -2.22745772e-01,\n",
              "        -3.38798198e-01,  6.75858022e-01]])"
            ]
          },
          "metadata": {
            "tags": []
          },
          "execution_count": 187
        }
      ]
    },
    {
      "cell_type": "markdown",
      "metadata": {
        "id": "dNGcRbQ2y3tb",
        "colab_type": "text"
      },
      "source": [
        "## Calculating PCA"
      ]
    },
    {
      "cell_type": "code",
      "metadata": {
        "id": "tsOv2_h7y3tb",
        "colab_type": "code",
        "colab": {}
      },
      "source": [
        "Xbar,mu,std=normalize(X) #calling the normalise function \n",
        "covariance=np.matmul(Xbar.T,Xbar) #computing XX^T\n",
        "S=covariance \n",
        "eigvals,eigvecs=np.linalg.eig(S) #eigen values and vectors \n",
        "idx = eigvals.argsort()[::-1]   #obtaining the eigen values indices\n",
        "eigvals = eigvals[idx] #sorting the eigen values\n",
        "eigvecs = eigvecs[:,idx] #obtaining eigen vectors from corresponding eigen values\n",
        "B = np.stack(eigvecs[:,:15]) #forming covariance matrix\n",
        "P = np.matmul(B,B.T) #projection matrix from multiplication of covariance matrix and its transpose\n",
        "X_reconstruct=np.matmul(P,X.T) #reconstructing the matrix by multiplying the projection matrix and the transpose of the original matrix\n",
        "X_reconstruct=X_reconstruct.T #assigning the transpose of above result as the reconstruction matrix"
      ],
      "execution_count": 0,
      "outputs": []
    },
    {
      "cell_type": "code",
      "metadata": {
        "id": "f8E9Vf-ly3td",
        "colab_type": "code",
        "colab": {},
        "outputId": "ba41c1c7-8982-461a-b542-362aad7a34fa"
      },
      "source": [
        "B.shape"
      ],
      "execution_count": 0,
      "outputs": [
        {
          "output_type": "execute_result",
          "data": {
            "text/plain": [
              "(20, 15)"
            ]
          },
          "metadata": {
            "tags": []
          },
          "execution_count": 189
        }
      ]
    },
    {
      "cell_type": "code",
      "metadata": {
        "id": "1nYySMUNy3tg",
        "colab_type": "code",
        "colab": {}
      },
      "source": [
        "def normalize(X): #normalise function for normalising the values of data matrix\n",
        "    mu = np.mean(X) #mean\n",
        "    std = np.std(X, axis=0) #standard deviation\n",
        "    std_filled = std.copy() \n",
        "    std_filled[std==0] = 1\n",
        "    Xbar =  (X-mu)/std_filled  #finding the Xbar by subtracting mean and dividing the standard deviation\n",
        "    return Xbar, mu, std   \n"
      ],
      "execution_count": 0,
      "outputs": []
    },
    {
      "cell_type": "code",
      "metadata": {
        "id": "CW3Es0mby3ti",
        "colab_type": "code",
        "colab": {},
        "outputId": "635821b0-cc49-4306-e934-b8971a132c6e"
      },
      "source": [
        "X_reconstruct"
      ],
      "execution_count": 0,
      "outputs": [
        {
          "output_type": "execute_result",
          "data": {
            "text/plain": [
              "array([[0.24158254, 0.10599513, 0.1244064 , ..., 0.81955732, 0.79702055,\n",
              "        0.88208912],\n",
              "       [0.19165141, 0.0840962 , 0.11565174, ..., 0.84154205, 0.8239859 ,\n",
              "        0.90735149],\n",
              "       [0.17831808, 0.08003549, 0.10139699, ..., 0.83145445, 0.81476258,\n",
              "        0.90213154],\n",
              "       ...,\n",
              "       [0.16671408, 0.08491819, 0.09548483, ..., 0.69922149, 0.69996569,\n",
              "        0.82594423],\n",
              "       [0.171072  , 0.06815381, 0.09532167, ..., 0.70030721, 0.70146704,\n",
              "        0.82603383],\n",
              "       [0.22772874, 0.11697466, 0.15639542, ..., 0.69501229, 0.69287508,\n",
              "        0.82119588]])"
            ]
          },
          "metadata": {
            "tags": []
          },
          "execution_count": 191
        }
      ]
    },
    {
      "cell_type": "code",
      "metadata": {
        "id": "qVhgyADky3tm",
        "colab_type": "code",
        "colab": {},
        "outputId": "ac9385b0-57c2-449a-bca4-b77f107652ea"
      },
      "source": [
        "X_reconstruct.shape"
      ],
      "execution_count": 0,
      "outputs": [
        {
          "output_type": "execute_result",
          "data": {
            "text/plain": [
              "(85119, 20)"
            ]
          },
          "metadata": {
            "tags": []
          },
          "execution_count": 192
        }
      ]
    },
    {
      "cell_type": "markdown",
      "metadata": {
        "id": "ZiZCzD_Ay3tp",
        "colab_type": "text"
      },
      "source": [
        "## PCA vs Variance"
      ]
    },
    {
      "cell_type": "code",
      "metadata": {
        "id": "bepXCVzey3tp",
        "colab_type": "code",
        "colab": {}
      },
      "source": [
        "std=np.std(B,axis=0) #finding the variance from the standard deviation\n",
        "var=np.square(std) "
      ],
      "execution_count": 0,
      "outputs": []
    },
    {
      "cell_type": "code",
      "metadata": {
        "id": "wyRw7GTsy3tv",
        "colab_type": "code",
        "colab": {},
        "outputId": "35a449fb-611a-4b6c-f754-4fa1f07334f4"
      },
      "source": [
        "var"
      ],
      "execution_count": 0,
      "outputs": [
        {
          "output_type": "execute_result",
          "data": {
            "text/plain": [
              "array([0.04999991, 0.00506238, 0.04707097, 0.04843382, 0.04975318,\n",
              "       0.04989952, 0.04999965, 0.04999718, 0.04998623, 0.04999498,\n",
              "       0.04999799, 0.04985184, 0.04996196, 0.0499981 , 0.04999549])"
            ]
          },
          "metadata": {
            "tags": []
          },
          "execution_count": 194
        }
      ]
    },
    {
      "cell_type": "code",
      "metadata": {
        "id": "G9pHTFOay3tx",
        "colab_type": "code",
        "colab": {}
      },
      "source": [
        "no_of_comp=[1,2,3,4,5,6,7,8,9,10,11,12,13,14,15] #number of components used in PCA"
      ],
      "execution_count": 0,
      "outputs": []
    },
    {
      "cell_type": "code",
      "metadata": {
        "id": "YqeYKp9wy3tz",
        "colab_type": "code",
        "colab": {},
        "outputId": "353a0dd9-7c45-4c5c-928f-13ee7ba0fc65"
      },
      "source": [
        "import matplotlib.pyplot as plt\n",
        "#plotting the graph against PCA and variance\n",
        "plt.scatter(no_of_comp,var)\n",
        "plt.title('PCA and variance')\n",
        "plt.ylabel('variance')\n",
        "plt.xlabel('PCA')\n",
        "plt.show()"
      ],
      "execution_count": 0,
      "outputs": [
        {
          "output_type": "display_data",
          "data": {
            "image/png": "[encoded data removed]",
            "text/plain": [
              "<Figure size 432x288 with 1 Axes>"
            ]
          },
          "metadata": {
            "tags": [],
            "needs_background": "light"
          }
        }
      ]
    },
    {
      "cell_type": "markdown",
      "metadata": {
        "id": "MqVY_fANy3t1",
        "colab_type": "text"
      },
      "source": [
        "## Mean Square error "
      ]
    },
    {
      "cell_type": "code",
      "metadata": {
        "id": "aTocBmpry3t1",
        "colab_type": "code",
        "colab": {},
        "outputId": "ecd24515-13c8-429a-bb95-7f86e7e0042f"
      },
      "source": [
        "#finding the mean square error\n",
        "np.square(X_reconstruct - X).sum(axis=1).mean()"
      ],
      "execution_count": 0,
      "outputs": [
        {
          "output_type": "execute_result",
          "data": {
            "text/plain": [
              "0.06693887014469453"
            ]
          },
          "metadata": {
            "tags": []
          },
          "execution_count": 197
        }
      ]
    },
    {
      "cell_type": "markdown",
      "metadata": {
        "id": "o4Hu2z10y3t3",
        "colab_type": "text"
      },
      "source": [
        "## Plotting eigen values vs indices"
      ]
    },
    {
      "cell_type": "code",
      "metadata": {
        "id": "fdt-F8zky3t3",
        "colab_type": "code",
        "colab": {},
        "outputId": "7980e650-0d65-40ef-ac5b-0c52fd5dbde5"
      },
      "source": [
        "import matplotlib.pyplot as plt\n",
        "#plotting eigen values against indices\n",
        "plt.scatter(idx,eigvals)\n",
        "plt.title('Eigen values vs indices')\n",
        "plt.ylabel('Eigen values')\n",
        "plt.xlabel('indices')\n",
        "plt.show()"
      ],
      "execution_count": 0,
      "outputs": [
        {
          "output_type": "display_data",
          "data": {
            "image/png": "[encoded data removed]",
            "text/plain": [
              "<Figure size 432x288 with 1 Axes>"
            ]
          },
          "metadata": {
            "tags": [],
            "needs_background": "light"
          }
        }
      ]
    },
    {
      "cell_type": "code",
      "metadata": {
        "id": "MfBQmVC2y3t7",
        "colab_type": "code",
        "colab": {}
      },
      "source": [
        "# Split the training data and testing data with 80:20 ratio\n",
        "train_x, test_x, train_y, test_y = train_test_split(X_reconstruct,\n",
        "train1.iloc[:,-1], train_size=0.8)"
      ],
      "execution_count": 0,
      "outputs": []
    },
    {
      "cell_type": "code",
      "metadata": {
        "id": "2P6Rf4a5y3t9",
        "colab_type": "code",
        "colab": {},
        "outputId": "887fb9bf-b3b0-43c6-e653-e5c9d4ee5813"
      },
      "source": [
        "train2.head()"
      ],
      "execution_count": 0,
      "outputs": [
        {
          "output_type": "execute_result",
          "data": {
            "text/html": [
              "<div>\n",
              "<style scoped>\n",
              "    .dataframe tbody tr th:only-of-type {\n",
              "        vertical-align: middle;\n",
              "    }\n",
              "\n",
              "    .dataframe tbody tr th {\n",
              "        vertical-align: top;\n",
              "    }\n",
              "\n",
              "    .dataframe thead th {\n",
              "        text-align: right;\n",
              "    }\n",
              "</style>\n",
              "<table border=\"1\" class=\"dataframe\">\n",
              "  <thead>\n",
              "    <tr style=\"text-align: right;\">\n",
              "      <th></th>\n",
              "      <th>column_euc_0</th>\n",
              "      <th>column_euc_1</th>\n",
              "      <th>column_euc_2</th>\n",
              "      <th>column_euc_3</th>\n",
              "      <th>column_euc_4</th>\n",
              "      <th>column_euc_5</th>\n",
              "      <th>column_euc_6</th>\n",
              "      <th>column_euc_7</th>\n",
              "      <th>column_euc_8</th>\n",
              "      <th>column_euc_9</th>\n",
              "      <th>...</th>\n",
              "      <th>column_cos_1</th>\n",
              "      <th>column_cos_2</th>\n",
              "      <th>column_cos_3</th>\n",
              "      <th>column_cos_4</th>\n",
              "      <th>column_cos_5</th>\n",
              "      <th>column_cos_6</th>\n",
              "      <th>column_cos_7</th>\n",
              "      <th>column_cos_8</th>\n",
              "      <th>column_cos_9</th>\n",
              "      <th>target</th>\n",
              "    </tr>\n",
              "  </thead>\n",
              "  <tbody>\n",
              "    <tr>\n",
              "      <th>0</th>\n",
              "      <td>7.301305</td>\n",
              "      <td>6.476413</td>\n",
              "      <td>7.214262</td>\n",
              "      <td>6.917620</td>\n",
              "      <td>6.519748</td>\n",
              "      <td>3.641007</td>\n",
              "      <td>6.908043</td>\n",
              "      <td>60.0</td>\n",
              "      <td>60.0</td>\n",
              "      <td>60.0</td>\n",
              "      <td>...</td>\n",
              "      <td>0.552745</td>\n",
              "      <td>0.574794</td>\n",
              "      <td>0.624309</td>\n",
              "      <td>0.619026</td>\n",
              "      <td>0.258351</td>\n",
              "      <td>0.574366</td>\n",
              "      <td>1.0</td>\n",
              "      <td>1.0</td>\n",
              "      <td>1.0</td>\n",
              "      <td>5</td>\n",
              "    </tr>\n",
              "    <tr>\n",
              "      <th>1</th>\n",
              "      <td>5.717004</td>\n",
              "      <td>5.076439</td>\n",
              "      <td>6.340898</td>\n",
              "      <td>3.586788</td>\n",
              "      <td>4.826955</td>\n",
              "      <td>7.294750</td>\n",
              "      <td>6.392016</td>\n",
              "      <td>60.0</td>\n",
              "      <td>60.0</td>\n",
              "      <td>60.0</td>\n",
              "      <td>...</td>\n",
              "      <td>0.519177</td>\n",
              "      <td>0.592157</td>\n",
              "      <td>0.395893</td>\n",
              "      <td>0.572930</td>\n",
              "      <td>0.594844</td>\n",
              "      <td>0.632305</td>\n",
              "      <td>1.0</td>\n",
              "      <td>1.0</td>\n",
              "      <td>1.0</td>\n",
              "      <td>2</td>\n",
              "    </tr>\n",
              "    <tr>\n",
              "      <th>2</th>\n",
              "      <td>5.349530</td>\n",
              "      <td>4.854142</td>\n",
              "      <td>5.628676</td>\n",
              "      <td>2.882886</td>\n",
              "      <td>3.573071</td>\n",
              "      <td>6.292664</td>\n",
              "      <td>5.433945</td>\n",
              "      <td>60.0</td>\n",
              "      <td>60.0</td>\n",
              "      <td>60.0</td>\n",
              "      <td>...</td>\n",
              "      <td>0.494006</td>\n",
              "      <td>0.521783</td>\n",
              "      <td>0.316489</td>\n",
              "      <td>0.421474</td>\n",
              "      <td>0.506190</td>\n",
              "      <td>0.533841</td>\n",
              "      <td>1.0</td>\n",
              "      <td>1.0</td>\n",
              "      <td>1.0</td>\n",
              "      <td>3</td>\n",
              "    </tr>\n",
              "    <tr>\n",
              "      <th>3</th>\n",
              "      <td>6.255076</td>\n",
              "      <td>6.355414</td>\n",
              "      <td>7.878941</td>\n",
              "      <td>4.544331</td>\n",
              "      <td>4.577210</td>\n",
              "      <td>7.192090</td>\n",
              "      <td>7.930581</td>\n",
              "      <td>60.0</td>\n",
              "      <td>60.0</td>\n",
              "      <td>60.0</td>\n",
              "      <td>...</td>\n",
              "      <td>0.608715</td>\n",
              "      <td>0.695520</td>\n",
              "      <td>0.465277</td>\n",
              "      <td>0.498301</td>\n",
              "      <td>0.558794</td>\n",
              "      <td>0.736132</td>\n",
              "      <td>1.0</td>\n",
              "      <td>1.0</td>\n",
              "      <td>1.0</td>\n",
              "      <td>4</td>\n",
              "    </tr>\n",
              "    <tr>\n",
              "      <th>4</th>\n",
              "      <td>7.554371</td>\n",
              "      <td>5.692802</td>\n",
              "      <td>6.687177</td>\n",
              "      <td>4.944407</td>\n",
              "      <td>5.559352</td>\n",
              "      <td>7.806414</td>\n",
              "      <td>6.598026</td>\n",
              "      <td>60.0</td>\n",
              "      <td>60.0</td>\n",
              "      <td>60.0</td>\n",
              "      <td>...</td>\n",
              "      <td>0.528475</td>\n",
              "      <td>0.573556</td>\n",
              "      <td>0.488644</td>\n",
              "      <td>0.583152</td>\n",
              "      <td>0.594557</td>\n",
              "      <td>0.594187</td>\n",
              "      <td>1.0</td>\n",
              "      <td>1.0</td>\n",
              "      <td>1.0</td>\n",
              "      <td>1</td>\n",
              "    </tr>\n",
              "  </tbody>\n",
              "</table>\n",
              "<p>5 rows × 21 columns</p>\n",
              "</div>"
            ],
            "text/plain": [
              "   column_euc_0  column_euc_1  column_euc_2  column_euc_3  column_euc_4  \\\n",
              "0      7.301305      6.476413      7.214262      6.917620      6.519748   \n",
              "1      5.717004      5.076439      6.340898      3.586788      4.826955   \n",
              "2      5.349530      4.854142      5.628676      2.882886      3.573071   \n",
              "3      6.255076      6.355414      7.878941      4.544331      4.577210   \n",
              "4      7.554371      5.692802      6.687177      4.944407      5.559352   \n",
              "\n",
              "   column_euc_5  column_euc_6  column_euc_7  column_euc_8  column_euc_9  ...  \\\n",
              "0      3.641007      6.908043          60.0          60.0          60.0  ...   \n",
              "1      7.294750      6.392016          60.0          60.0          60.0  ...   \n",
              "2      6.292664      5.433945          60.0          60.0          60.0  ...   \n",
              "3      7.192090      7.930581          60.0          60.0          60.0  ...   \n",
              "4      7.806414      6.598026          60.0          60.0          60.0  ...   \n",
              "\n",
              "   column_cos_1  column_cos_2  column_cos_3  column_cos_4  column_cos_5  \\\n",
              "0      0.552745      0.574794      0.624309      0.619026      0.258351   \n",
              "1      0.519177      0.592157      0.395893      0.572930      0.594844   \n",
              "2      0.494006      0.521783      0.316489      0.421474      0.506190   \n",
              "3      0.608715      0.695520      0.465277      0.498301      0.558794   \n",
              "4      0.528475      0.573556      0.488644      0.583152      0.594557   \n",
              "\n",
              "   column_cos_6  column_cos_7  column_cos_8  column_cos_9  target  \n",
              "0      0.574366           1.0           1.0           1.0       5  \n",
              "1      0.632305           1.0           1.0           1.0       2  \n",
              "2      0.533841           1.0           1.0           1.0       3  \n",
              "3      0.736132           1.0           1.0           1.0       4  \n",
              "4      0.594187           1.0           1.0           1.0       1  \n",
              "\n",
              "[5 rows x 21 columns]"
            ]
          },
          "metadata": {
            "tags": []
          },
          "execution_count": 201
        }
      ]
    },
    {
      "cell_type": "markdown",
      "metadata": {
        "id": "0Em9bPRuy3t_",
        "colab_type": "text"
      },
      "source": [
        "## Applying Logistic Regression"
      ]
    },
    {
      "cell_type": "code",
      "metadata": {
        "id": "1o6vISSJy3uA",
        "colab_type": "code",
        "colab": {},
        "outputId": "c2c99ba8-3ee1-4edc-ca7d-02d2d45cb255"
      },
      "source": [
        "#Applying Logistic Regression using sklearn library\n",
        "mul_lr = linear_model.LogisticRegression(multi_class='multinomial', solver='saga',max_iter=200)\n",
        "mul_lr.fit(train_x, train_y)\n",
        "\n",
        "print(\"Multinomial Logistic regression Train Accuracy : \", metrics.accuracy_score(train_y, mul_lr.predict(train_x)))\n",
        "print(\"Multinomial Logistic regression Test Accuracy : \", metrics.accuracy_score(test_y, mul_lr.predict(test_x)))\n"
      ],
      "execution_count": 0,
      "outputs": [
        {
          "output_type": "stream",
          "text": [
            "Multinomial Logistic regression Train Accuracy :  0.6197224465819811\n",
            "Multinomial Logistic regression Test Accuracy :  0.6180686090225563\n"
          ],
          "name": "stdout"
        }
      ]
    },
    {
      "cell_type": "markdown",
      "metadata": {
        "id": "kewbO8uTy3uD",
        "colab_type": "text"
      },
      "source": [
        "## Applying Logistic Regression Using Regularization"
      ]
    },
    {
      "cell_type": "code",
      "metadata": {
        "id": "5U7IOlRwy3uD",
        "colab_type": "code",
        "colab": {},
        "outputId": "edac6f0a-b779-4caf-9c83-94b1b986425e"
      },
      "source": [
        "#Applying Logistic Regression using sklearn library L2 Regularization\n",
        "mul_lr = linear_model.LogisticRegression(multi_class='multinomial', solver='saga',max_iter=200,penalty='l2')\n",
        "mul_lr.fit(train_x, train_y)\n",
        "\n",
        "print(\"Multinomial Logistic regression Train Accuracy : \", metrics.accuracy_score(train_y, mul_lr.predict(train_x)))\n",
        "print(\"Multinomial Logistic regression Test Accuracy : \", metrics.accuracy_score(test_y, mul_lr.predict(test_x)))\n"
      ],
      "execution_count": 0,
      "outputs": [
        {
          "output_type": "stream",
          "text": [
            "Multinomial Logistic regression Train Accuracy :  0.6197224465819811\n",
            "Multinomial Logistic regression Test Accuracy :  0.6180686090225563\n"
          ],
          "name": "stdout"
        }
      ]
    },
    {
      "cell_type": "code",
      "metadata": {
        "id": "nXZA9fWVy3uG",
        "colab_type": "code",
        "colab": {}
      },
      "source": [
        "y=mul_lr.predict(train_x)"
      ],
      "execution_count": 0,
      "outputs": []
    },
    {
      "cell_type": "code",
      "metadata": {
        "id": "f8KdNkbvy3uH",
        "colab_type": "code",
        "colab": {}
      },
      "source": [
        "train_y=train_y.fillna(0)"
      ],
      "execution_count": 0,
      "outputs": []
    },
    {
      "cell_type": "code",
      "metadata": {
        "id": "vSiCyKBty3uJ",
        "colab_type": "code",
        "colab": {}
      },
      "source": [
        "train_y=train_y.to_numpy()"
      ],
      "execution_count": 0,
      "outputs": []
    },
    {
      "cell_type": "code",
      "metadata": {
        "id": "xx3FZDV3y3uL",
        "colab_type": "code",
        "colab": {}
      },
      "source": [
        "count=0\n",
        "for i in range(68095):\n",
        "    if y[i]!=train_y[i]:\n",
        "        count=count+1"
      ],
      "execution_count": 0,
      "outputs": []
    },
    {
      "cell_type": "markdown",
      "metadata": {
        "id": "sY6psI6Q9ptD",
        "colab_type": "text"
      },
      "source": [
        ""
      ]
    },
    {
      "cell_type": "markdown",
      "metadata": {
        "id": "X0UaoRF69tnt",
        "colab_type": "text"
      },
      "source": [
        "## Metrics"
      ]
    },
    {
      "cell_type": "code",
      "metadata": {
        "id": "35q1MztSy3uN",
        "colab_type": "code",
        "colab": {},
        "outputId": "ae01d7de-30f7-4580-8cc2-bc57037ac346"
      },
      "source": [
        "#loss\n",
        "(count)/68095"
      ],
      "execution_count": 0,
      "outputs": [
        {
          "output_type": "execute_result",
          "data": {
            "text/plain": [
              "0.38027755341801894"
            ]
          },
          "metadata": {
            "tags": []
          },
          "execution_count": 208
        }
      ]
    },
    {
      "cell_type": "code",
      "metadata": {
        "id": "vasZxo4Zy3uP",
        "colab_type": "code",
        "colab": {},
        "outputId": "de4b3ad3-8e7e-4edf-cd2f-70d882fd74de"
      },
      "source": [
        "#mean square error\n",
        "(np.square(y - train_y).sum())/68095"
      ],
      "execution_count": 0,
      "outputs": [
        {
          "output_type": "execute_result",
          "data": {
            "text/plain": [
              "2.2502092664659665"
            ]
          },
          "metadata": {
            "tags": []
          },
          "execution_count": 209
        }
      ]
    },
    {
      "cell_type": "code",
      "metadata": {
        "id": "tuQVuqnuy3uS",
        "colab_type": "code",
        "colab": {},
        "outputId": "206b9b2a-ac84-454c-b39c-76a354ee3add"
      },
      "source": [
        "#fscore\n",
        "from sklearn.metrics import f1_score\n",
        "f1_score(train_y, y, average='micro')"
      ],
      "execution_count": 0,
      "outputs": [
        {
          "output_type": "execute_result",
          "data": {
            "text/plain": [
              "0.6197224465819811"
            ]
          },
          "metadata": {
            "tags": []
          },
          "execution_count": 210
        }
      ]
    }
  ]
}